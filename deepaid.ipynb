{
  "cells": [
    {
      "cell_type": "markdown",
      "metadata": {
        "id": "view-in-github",
        "colab_type": "text"
      },
      "source": [
        "<a href=\"https://colab.research.google.com/github/OctoberFall/SoK-Security/blob/main/deepaid.ipynb\" target=\"_parent\"><img src=\"https://colab.research.google.com/assets/colab-badge.svg\" alt=\"Open In Colab\"/></a>"
      ]
    },
    {
      "cell_type": "markdown",
      "id": "1d568235",
      "metadata": {
        "id": "1d568235"
      },
      "source": [
        "# Using DeepAid for model interpretability \n",
        "\n",
        "Reference: DeepAID, Interpreting and Improving Deep Learning-Based Anomaly Detection in Security Applications [Github](https://github.com/dongtsi/DeepAID)"
      ]
    },
    {
      "cell_type": "markdown",
      "source": [
        "### Run each cell to execute the code. We will first download a google drive folder. The zipped folder contains all the required files for this notebook. LSTM_onehot is the pytorch model trained with DeepLog architecture. We used the open source implementation of [Link](https://github.com/wuyifan18/DeepLog)\n",
        "\n",
        "https://drive.google.com/file/d/1mhraNt2Z8X6S6dFjjRN_hK3ph3sXPmjR/view?usp=sharing "
      ],
      "metadata": {
        "id": "0GhZxeus0Byz"
      },
      "id": "0GhZxeus0Byz"
    },
    {
      "cell_type": "code",
      "source": [
        "!gdown 1mhraNt2Z8X6S6dFjjRN_hK3ph3sXPmjR"
      ],
      "metadata": {
        "id": "kSo70RYp0GsB",
        "outputId": "6f944628-bf64-4f2f-8c29-031c762017c2",
        "colab": {
          "base_uri": "https://localhost:8080/"
        }
      },
      "id": "kSo70RYp0GsB",
      "execution_count": 1,
      "outputs": [
        {
          "output_type": "stream",
          "name": "stdout",
          "text": [
            "Downloading...\n",
            "From: https://drive.google.com/uc?id=1mhraNt2Z8X6S6dFjjRN_hK3ph3sXPmjR\n",
            "To: /content/deepaid.zip\n",
            "\r  0% 0.00/336k [00:00<?, ?B/s]\r100% 336k/336k [00:00<00:00, 101MB/s]\n"
          ]
        }
      ]
    },
    {
      "cell_type": "code",
      "source": [
        "!unzip \"/content/deepaid.zip\""
      ],
      "metadata": {
        "id": "eWKH1rNi0NUW",
        "outputId": "7f325283-76d8-4fe5-c4bd-dd7647746d92",
        "colab": {
          "base_uri": "https://localhost:8080/"
        }
      },
      "id": "eWKH1rNi0NUW",
      "execution_count": 2,
      "outputs": [
        {
          "output_type": "stream",
          "name": "stdout",
          "text": [
            "Archive:  /content/deepaid.zip\n",
            "   creating: deepaid/\n",
            "  inflating: deepaid/LSTM_onehot.pth.tar  \n",
            "   creating: deepaid/__pycache__/\n",
            "  inflating: deepaid/__pycache__/deeplog.cpython-38.pyc  \n",
            "  inflating: deepaid/__pycache__/interpreter.cpython-38.pyc  \n",
            "  inflating: deepaid/__pycache__/timeseries_onehot.cpython-38.pyc  \n",
            "  inflating: deepaid/abnormal_data.npy  \n",
            "  inflating: deepaid/deeplog.py      \n",
            "  inflating: deepaid/interpreter.py  \n",
            "  inflating: deepaid/log_key_meanning.npy  \n",
            "  inflating: deepaid/timeseries_onehot.py  \n"
          ]
        }
      ]
    },
    {
      "cell_type": "code",
      "execution_count": 3,
      "id": "06303f00",
      "metadata": {
        "id": "06303f00"
      },
      "outputs": [],
      "source": [
        "import numpy as np\n",
        "from sklearn.metrics import confusion_matrix, roc_curve\n",
        "import torch\n",
        "\n",
        "def validate_by_rmse(rmse_vec,thres,label):\n",
        "    pred = np.asarray([0] * len(rmse_vec))\n",
        "    idx = np.where(rmse_vec>thres)\n",
        "    pred[idx] = 1\n",
        "    cnf_matrix = confusion_matrix(label, pred)\n",
        "    FP = cnf_matrix.sum(axis=0) - np.diag(cnf_matrix)  \n",
        "    FN = cnf_matrix.sum(axis=1) - np.diag(cnf_matrix)\n",
        "    TP = np.diag(cnf_matrix)\n",
        "    TN = cnf_matrix.sum() - (FP + FN + TP)\n",
        "\n",
        "    FP = FP.astype(float)\n",
        "    FN = FN.astype(float)\n",
        "    TP = TP.astype(float)\n",
        "    TN = TN.astype(float)\n",
        "\n",
        "    TPR = (TP/(TP+FN))[1]\n",
        "    FPR = (FP/(FP+TN))[1]\n",
        "    print(\"TPR:\",TPR,\"|FPR:\",FPR)\n",
        "\n",
        "    return pred\n",
        "\n",
        "class Normalizer:\n",
        "    def __init__(self, \n",
        "            dim, \n",
        "            normer=\"minmax\",\n",
        "            online_minmax=False): # whether fit_transform online (see Kitsune), *available only for normer=\"minmax\"\n",
        "\n",
        "        self.dim = dim # feature dimensionality\n",
        "        self.normer = normer\n",
        "        if self.normer == 'minmax':\n",
        "            self.online_minmax = online_minmax\n",
        "            self.norm_max = [-np.Inf] * self.dim\n",
        "            self.norm_min = [np.Inf] * self.dim\n",
        "        else:\n",
        "            raise NotImplementedError # Implement other Normalizer here\n",
        "        \n",
        "    def fit_transform(self,train_feat):\n",
        "        if self.normer == 'minmax':\n",
        "            return self._minmax_fit_transform(train_feat)\n",
        "        else:\n",
        "            raise NotImplementedError # Implement other Normalizer here\n",
        "\n",
        "    def transform(self,feat):\n",
        "        if self.normer == 'minmax':\n",
        "            return self._minmax_transform(feat)\n",
        "        else:\n",
        "            raise NotImplementedError # Implement other Normalizer here\n",
        "\n",
        "    def restore(self,feat):\n",
        "        if self.normer == 'minmax':\n",
        "            return self._minmax_restore(feat)\n",
        "        else:\n",
        "            raise NotImplementedError # Implement other Normalizer here\n",
        "        \n",
        "    def _minmax_fit_transform(self,train_feat):\n",
        "        if not self.online_minmax:\n",
        "            self.norm_min = np.min(train_feat,axis=0)\n",
        "            self.norm_max = np.max(train_feat,axis=0)\n",
        "            norm_feat = (train_feat - self.norm_min) / (self.norm_max-self.norm_min+1e-10)\n",
        "            return norm_feat\n",
        "        else:\n",
        "            norm_feat = []\n",
        "            self.norm_max, self.norm_min = np.asarray(self.norm_max), np.asarray(self.norm_min)\n",
        "            for i in range(len(train_feat)):\n",
        "                x = train_feat[i]\n",
        "                self.norm_max[x>self.norm_max] = x[x>self.norm_max]\n",
        "                self.norm_min[x<self.norm_min] = x[x<self.norm_min]\n",
        "                norm_feat.append((x - self.norm_min) / (self.norm_max-self.norm_min+1e-10))\n",
        "            return np.asarray(norm_feat)\n",
        "\n",
        "    def _minmax_transform(self, feat):\n",
        "        norm_feat = (feat - self.norm_min) / (self.norm_max-self.norm_min+1e-10)\n",
        "        return norm_feat\n",
        "\n",
        "    def _minmax_restore(self, feat):\n",
        "        denorm_feat = feat * (self.norm_max-self.norm_min+1e-10) + self.norm_min\n",
        "        return denorm_feat\n",
        "    \n",
        "    # def _olminmax_fit_transform(self, train_feat):\n",
        "    #     norm_feat = []\n",
        "    #     for i in range(len(train_feat)):\n",
        "    #         x = train_feat[i]\n",
        "    #         self.norm_max[x>self.norm_max] = x[x>self.norm_max]\n",
        "    #         self.norm_min[x<self.norm_min] = x[x<self.norm_min]\n",
        "    #         norm_feat.append(x - self.norm_min) / (self.norm_max-self.norm_min+1e-10)\n",
        "    #     return np.asarray(norm_feat)\n",
        "    \n",
        "    # def _olminmax_transform(self, feat):\n",
        "    #     norm_feat = (feat - self.norm_min) / (self.norm_max-self.norm_min+1e-10)\n",
        "    #     return norm_feat\n",
        "\n",
        "\n",
        "\"\"\" Deeplog tools \"\"\"\n",
        "def deeplogtools_seqformat(model, abnormal_data, num_candidates, index=0):\n",
        "    import keras.utils.np_utils as np_utils\n",
        "    device = torch.device(\"cuda\" if torch.cuda.is_available() else \"cpu\")\n",
        "\n",
        "    X = abnormal_data.copy()\n",
        "    y, X = X[:,-1], np_utils.to_categorical(X[:,:-1])\n",
        "    Output = model(torch.from_numpy(X).type(torch.float).to(device))\n",
        "    TP_idx = []\n",
        "    for i in range(len(Output)):\n",
        "        output = Output[i]\n",
        "        label = y[i]\n",
        "        predicted = torch.argsort(output)[-num_candidates:]\n",
        "        if label not in predicted:\n",
        "            TP_idx.append(i)\n",
        "    seq_feat = np_utils.to_categorical(abnormal_data[TP_idx])\n",
        "    feat = seq_feat[index]\n",
        "    seq = torch.from_numpy(feat[:-1,:]).to(device)\n",
        "    label = torch.tensor(np.argmax(feat[-1])).unsqueeze(0).to(device)\n",
        "    return seq,label, abnormal_data[TP_idx][index]\n",
        "\n",
        "\"\"\" Multi LSTM tools \"\"\"\n",
        "def multiLSTM_seqformat(test_feat, seq_len = 5, index=0):\n",
        "    import more_itertools\n",
        "\n",
        "    X_test = more_itertools.windowed(test_feat[:,:],n=seq_len,step=1)\n",
        "    X_test = np.asarray(list(X_test))\n",
        "    y_test = np.asarray(test_feat[seq_len-1:])\n",
        "\n",
        "    # print(\"X_test:\",X_test.shape,\"y_test:\",y_test.shape)\n",
        "    i = index\n",
        "    interp_feat = y_test[i]\n",
        "    seq_feat = np.asarray([X_test[i]]) \n",
        "    # print(\"seq_feat:\",seq_feat.shape,\"interp_feat:\",interp_feat.shape)\n",
        "\n",
        "    return seq_feat, interp_feat"
      ]
    },
    {
      "cell_type": "code",
      "execution_count": 3,
      "id": "4c92cc60",
      "metadata": {
        "id": "4c92cc60"
      },
      "outputs": [],
      "source": []
    },
    {
      "cell_type": "code",
      "source": [
        "import sys\n",
        "sys.path.insert(1,'/content/deepaid')"
      ],
      "metadata": {
        "id": "wNdBfapI0Wz4"
      },
      "id": "wNdBfapI0Wz4",
      "execution_count": 4,
      "outputs": []
    },
    {
      "cell_type": "code",
      "execution_count": 5,
      "id": "dfa15eea",
      "metadata": {
        "id": "dfa15eea"
      },
      "outputs": [],
      "source": [
        "import torch\n",
        "from deeplog import *"
      ]
    },
    {
      "cell_type": "code",
      "execution_count": 6,
      "id": "6d4f2c9a",
      "metadata": {
        "id": "6d4f2c9a"
      },
      "outputs": [],
      "source": [
        "from deeplog import LSTM_onehot\n",
        "import torch\n",
        "model = torch.load('/content/deepaid/LSTM_onehot.pth.tar')"
      ]
    },
    {
      "cell_type": "code",
      "execution_count": 8,
      "id": "8cd114f7",
      "metadata": {
        "id": "8cd114f7"
      },
      "outputs": [],
      "source": [
        "\"\"\"Step 2: Find an anomaly you are interested in\"\"\"\n",
        "abnormal_data = np.load('/content/deepaid/abnormal_data.npy')\n",
        "idx = 100\n",
        "seq, label, anomaly_timeseries = deeplogtools_seqformat(model, abnormal_data, num_candidates=9, index=idx)"
      ]
    },
    {
      "cell_type": "code",
      "execution_count": 9,
      "id": "321dda50",
      "metadata": {
        "id": "321dda50",
        "outputId": "36d4a274-349d-4ebb-d05f-d3da3b94d917",
        "colab": {
          "base_uri": "https://localhost:8080/"
        }
      },
      "outputs": [
        {
          "output_type": "execute_result",
          "data": {
            "text/plain": [
              "tensor([[0., 0., 0., 0., 1., 0., 0., 0., 0., 0., 0., 0., 0., 0., 0., 0., 0., 0.,\n",
              "         0., 0., 0., 0., 0., 0., 0., 0., 0., 0.],\n",
              "        [0., 0., 0., 0., 0., 0., 0., 0., 0., 0., 1., 0., 0., 0., 0., 0., 0., 0.,\n",
              "         0., 0., 0., 0., 0., 0., 0., 0., 0., 0.],\n",
              "        [0., 0., 0., 0., 0., 0., 0., 0., 0., 1., 0., 0., 0., 0., 0., 0., 0., 0.,\n",
              "         0., 0., 0., 0., 0., 0., 0., 0., 0., 0.],\n",
              "        [0., 0., 0., 0., 0., 0., 0., 0., 0., 0., 0., 0., 0., 1., 0., 0., 0., 0.,\n",
              "         0., 0., 0., 0., 0., 0., 0., 0., 0., 0.],\n",
              "        [0., 0., 0., 0., 0., 0., 1., 0., 0., 0., 0., 0., 0., 0., 0., 0., 0., 0.,\n",
              "         0., 0., 0., 0., 0., 0., 0., 0., 0., 0.],\n",
              "        [0., 0., 0., 0., 0., 0., 0., 1., 0., 0., 0., 0., 0., 0., 0., 0., 0., 0.,\n",
              "         0., 0., 0., 0., 0., 0., 0., 0., 0., 0.],\n",
              "        [0., 0., 0., 0., 0., 0., 0., 0., 0., 0., 1., 0., 0., 0., 0., 0., 0., 0.,\n",
              "         0., 0., 0., 0., 0., 0., 0., 0., 0., 0.],\n",
              "        [0., 0., 0., 0., 0., 0., 0., 0., 0., 0., 0., 0., 0., 1., 0., 0., 0., 0.,\n",
              "         0., 0., 0., 0., 0., 0., 0., 0., 0., 0.],\n",
              "        [0., 0., 0., 0., 0., 0., 1., 0., 0., 0., 0., 0., 0., 0., 0., 0., 0., 0.,\n",
              "         0., 0., 0., 0., 0., 0., 0., 0., 0., 0.],\n",
              "        [0., 0., 0., 0., 0., 0., 0., 0., 0., 0., 1., 0., 0., 0., 0., 0., 0., 0.,\n",
              "         0., 0., 0., 0., 0., 0., 0., 0., 0., 0.]], device='cuda:0')"
            ]
          },
          "metadata": {},
          "execution_count": 9
        }
      ],
      "source": [
        "seq "
      ]
    },
    {
      "cell_type": "code",
      "execution_count": 10,
      "id": "3e479029",
      "metadata": {
        "id": "3e479029",
        "outputId": "7ed8e05c-6903-4c1e-85a4-9ebfbdfc0f70",
        "colab": {
          "base_uri": "https://localhost:8080/"
        }
      },
      "outputs": [
        {
          "output_type": "execute_result",
          "data": {
            "text/plain": [
              "tensor([9], device='cuda:0')"
            ]
          },
          "metadata": {},
          "execution_count": 10
        }
      ],
      "source": [
        "label"
      ]
    },
    {
      "cell_type": "code",
      "execution_count": 11,
      "id": "06af1fee",
      "metadata": {
        "id": "06af1fee",
        "outputId": "6fa5d241-87ba-4b0e-8ac0-b9d13ef855e3",
        "colab": {
          "base_uri": "https://localhost:8080/"
        }
      },
      "outputs": [
        {
          "output_type": "execute_result",
          "data": {
            "text/plain": [
              "array([ 4, 10,  9, 13,  6,  7, 10, 13,  6, 10,  9])"
            ]
          },
          "metadata": {},
          "execution_count": 11
        }
      ],
      "source": [
        "anomaly_timeseries"
      ]
    },
    {
      "cell_type": "code",
      "execution_count": 13,
      "id": "daa7a544",
      "metadata": {
        "id": "daa7a544",
        "outputId": "5a83f1da-59ed-449a-9eff-2d1c1d50f3a3",
        "colab": {
          "base_uri": "https://localhost:8080/"
        }
      },
      "outputs": [
        {
          "output_type": "stream",
          "name": "stdout",
          "text": [
            "Successfully Initialize <Univariate Timeseries Interptreter> for Model <LSTM_onehot>\n"
          ]
        }
      ],
      "source": [
        "\"\"\"Step 3: Create a DeepAID Interpreter\"\"\"\n",
        "\n",
        "from timeseries_onehot import UniTimeseriesAID\n",
        "feature_desc = np.load('/content/deepaid/log_key_meanning.npy') # feature_description\n",
        "my_interpreter = UniTimeseriesAID(model, feature_desc=feature_desc, class_num=28)"
      ]
    },
    {
      "cell_type": "code",
      "execution_count": 14,
      "id": "a79d818b",
      "metadata": {
        "id": "a79d818b",
        "outputId": "b67c5449-90f4-45be-8885-ec4e4c7401c1",
        "colab": {
          "base_uri": "https://localhost:8080/"
        }
      },
      "outputs": [
        {
          "output_type": "stream",
          "name": "stderr",
          "text": [
            "/content/deepaid/timeseries_onehot.py:61: UserWarning: Implicit dimension choice for softmax has been deprecated. Change the call to include dim=X as an argument.\n",
            "  loss_accuracy = Bound(self.bound_thres-Logit(out)[label[0]])\n"
          ]
        },
        {
          "output_type": "stream",
          "name": "stdout",
          "text": [
            "\n",
            "Visualize Interpretation (Table View)\n",
            "+------+-------------------------------------+-------+------+-------------------------------------+\n",
            "| Ano. |               Meaning               | Diff. | Ref. |               Meaning*              |\n",
            "+------+-------------------------------------+-------+------+-------------------------------------+\n",
            "|  4   |      Receiving blk* src&dest:*      |       |  4   |      Receiving blk* src&dest:*      |\n",
            "|  10  |  PktResponder* for blk* terminating |       |  10  |  PktResponder* for blk* terminating |\n",
            "|  9   |       PktResponder* Exception       |       |  9   |       PktResponder* Exception       |\n",
            "|  13  |  Exception in receiveBlock for blk* |       |  13  |  Exception in receiveBlock for blk* |\n",
            "|  6   |   writeBlock* received exception*   |       |  6   |   writeBlock* received exception*   |\n",
            "|  7   | PktResponder* for blk* Interrupted. |       |  7   | PktResponder* for blk* Interrupted. |\n",
            "|  10  |  PktResponder* for blk* terminating |       |  10  |  PktResponder* for blk* terminating |\n",
            "|  13  |  Exception in receiveBlock for blk* |       |  13  |  Exception in receiveBlock for blk* |\n",
            "|  6   |   writeBlock* received exception*   |       |  6   |   writeBlock* received exception*   |\n",
            "|  10  |  PktResponder* for blk* terminating |       |  10  |  PktResponder* for blk* terminating |\n",
            "|  9   |       PktResponder* Exception       |   !=  |  1   |        Verification succeeded       |\n",
            "+------+-------------------------------------+-------+------+-------------------------------------+\n"
          ]
        },
        {
          "output_type": "stream",
          "name": "stderr",
          "text": [
            "/content/deepaid/timeseries_onehot.py:74: UserWarning: Implicit dimension choice for softmax has been deprecated. Change the call to include dim=X as an argument.\n",
            "  if torch.max(Logit(out)).cpu().data > self.pos_thres:\n",
            "/content/deepaid/timeseries_onehot.py:77: UserWarning: Implicit dimension choice for softmax has been deprecated. Change the call to include dim=X as an argument.\n",
            "  IDX2.append(torch.argmax(Logit(out)).cpu().data.numpy().tolist())\n"
          ]
        }
      ],
      "source": [
        "\"\"\"Step 4: Interpret your anomaly and show the result\"\"\"\n",
        "interpretation = my_interpreter(seq, label)\n",
        "my_interpreter.show_table(anomaly_timeseries, interpretation)"
      ]
    },
    {
      "cell_type": "markdown",
      "id": "d258d6f3",
      "metadata": {
        "id": "d258d6f3"
      },
      "source": [
        "## Second experiment"
      ]
    },
    {
      "cell_type": "code",
      "execution_count": 16,
      "id": "d71afce9",
      "metadata": {
        "id": "d71afce9"
      },
      "outputs": [],
      "source": [
        "\"\"\"Step 2: Find an anomaly you are interested in\"\"\"\n",
        "abnormal_data = np.load('/content/deepaid/abnormal_data.npy')\n",
        "idx = 10\n",
        "seq, label, anomaly_timeseries = deeplogtools_seqformat(model, abnormal_data, num_candidates=9, index=idx)"
      ]
    },
    {
      "cell_type": "code",
      "execution_count": 17,
      "id": "9fe0414f",
      "metadata": {
        "id": "9fe0414f",
        "outputId": "81c64db3-9651-47f5-c5f7-642963adb74a",
        "colab": {
          "base_uri": "https://localhost:8080/"
        }
      },
      "outputs": [
        {
          "output_type": "execute_result",
          "data": {
            "text/plain": [
              "tensor([[0., 0., 0., 0., 0., 0., 0., 0., 0., 0., 1., 0., 0., 0., 0., 0., 0., 0.,\n",
              "         0., 0., 0., 0., 0., 0., 0., 0., 0., 0.],\n",
              "        [0., 0., 0., 0., 0., 0., 0., 0., 1., 0., 0., 0., 0., 0., 0., 0., 0., 0.,\n",
              "         0., 0., 0., 0., 0., 0., 0., 0., 0., 0.],\n",
              "        [0., 0., 0., 0., 0., 0., 0., 0., 0., 0., 0., 0., 0., 0., 0., 0., 0., 0.,\n",
              "         0., 0., 0., 0., 0., 0., 0., 1., 0., 0.],\n",
              "        [0., 0., 0., 0., 0., 0., 0., 0., 0., 0., 0., 0., 0., 0., 0., 0., 0., 1.,\n",
              "         0., 0., 0., 0., 0., 0., 0., 0., 0., 0.],\n",
              "        [0., 0., 0., 0., 0., 0., 0., 0., 0., 0., 0., 0., 0., 0., 0., 0., 0., 0.,\n",
              "         0., 0., 0., 0., 0., 0., 1., 0., 0., 0.],\n",
              "        [0., 0., 0., 0., 1., 0., 0., 0., 0., 0., 0., 0., 0., 0., 0., 0., 0., 0.,\n",
              "         0., 0., 0., 0., 0., 0., 0., 0., 0., 0.],\n",
              "        [0., 0., 0., 0., 0., 0., 0., 0., 0., 0., 0., 0., 0., 0., 0., 0., 0., 0.,\n",
              "         0., 0., 0., 0., 0., 0., 0., 1., 0., 0.],\n",
              "        [0., 0., 0., 0., 0., 0., 0., 0., 0., 0., 0., 0., 0., 0., 0., 0., 1., 0.,\n",
              "         0., 0., 0., 0., 0., 0., 0., 0., 0., 0.],\n",
              "        [0., 0., 0., 0., 0., 0., 0., 0., 0., 0., 0., 0., 0., 0., 0., 0., 0., 0.,\n",
              "         0., 0., 0., 0., 0., 0., 1., 0., 0., 0.],\n",
              "        [0., 0., 0., 0., 0., 0., 0., 0., 0., 0., 0., 0., 0., 0., 0., 0., 0., 1.,\n",
              "         0., 0., 0., 0., 0., 0., 0., 0., 0., 0.]], device='cuda:0')"
            ]
          },
          "metadata": {},
          "execution_count": 17
        }
      ],
      "source": [
        "seq "
      ]
    },
    {
      "cell_type": "code",
      "execution_count": 18,
      "id": "910f6c40",
      "metadata": {
        "id": "910f6c40",
        "outputId": "5c08184f-b430-451d-ad4d-5028e3752678",
        "colab": {
          "base_uri": "https://localhost:8080/"
        }
      },
      "outputs": [
        {
          "output_type": "execute_result",
          "data": {
            "text/plain": [
              "tensor([4], device='cuda:0')"
            ]
          },
          "metadata": {},
          "execution_count": 18
        }
      ],
      "source": [
        "label"
      ]
    },
    {
      "cell_type": "code",
      "execution_count": 19,
      "id": "5e639ed4",
      "metadata": {
        "id": "5e639ed4",
        "outputId": "efcf9512-757f-4114-b849-6707ac2ad842",
        "colab": {
          "base_uri": "https://localhost:8080/"
        }
      },
      "outputs": [
        {
          "output_type": "execute_result",
          "data": {
            "text/plain": [
              "array([10,  8, 25, 17, 24,  4, 25, 16, 24, 17,  4])"
            ]
          },
          "metadata": {},
          "execution_count": 19
        }
      ],
      "source": [
        "anomaly_timeseries"
      ]
    },
    {
      "cell_type": "code",
      "execution_count": 21,
      "id": "e1647aaa",
      "metadata": {
        "id": "e1647aaa",
        "outputId": "2a4374bb-6ad4-4a12-c194-bc8833855389",
        "colab": {
          "base_uri": "https://localhost:8080/"
        }
      },
      "outputs": [
        {
          "output_type": "stream",
          "name": "stdout",
          "text": [
            "Successfully Initialize <Univariate Timeseries Interptreter> for Model <LSTM_onehot>\n"
          ]
        }
      ],
      "source": [
        "\"\"\"Step 3: Create a DeepAID Interpreter\"\"\"\n",
        "\n",
        "from timeseries_onehot import UniTimeseriesAID\n",
        "feature_desc = np.load('/content/deepaid/log_key_meanning.npy') # feature_description\n",
        "my_interpreter = UniTimeseriesAID(model, feature_desc=feature_desc, class_num=28)"
      ]
    },
    {
      "cell_type": "code",
      "execution_count": 22,
      "id": "adb730c8",
      "metadata": {
        "id": "adb730c8",
        "outputId": "05568515-eb28-44f8-f094-1d9b167fdfc4",
        "colab": {
          "base_uri": "https://localhost:8080/"
        }
      },
      "outputs": [
        {
          "output_type": "stream",
          "name": "stdout",
          "text": [
            "\n",
            "Visualize Interpretation (Table View)\n",
            "+------+--------------------------------------+-------+------+--------------------------------------+\n",
            "| Ano. |               Meaning                | Diff. | Ref. |               Meaning*               |\n",
            "+------+--------------------------------------+-------+------+--------------------------------------+\n",
            "|  10  |  PktResponder* for blk* terminating  |       |  10  |  PktResponder* for blk* terminating  |\n",
            "|  8   |      Received blk* size* from*       |       |  8   |      Received blk* size* from*       |\n",
            "|  25  |  NS.addStoredBlock: blkMap updated   |       |  25  |  NS.addStoredBlock: blkMap updated   |\n",
            "|  17  | Starting thread to transfer blk* to* |       |  17  | Starting thread to transfer blk* to* |\n",
            "|  24  |        ask* to replicate* to*        |       |  24  |        ask* to replicate* to*        |\n",
            "|  4   |      Receiving blk* src&dest:*       |       |  4   |      Receiving blk* src&dest:*       |\n",
            "|  25  |  NS.addStoredBlock: blkMap updated   |       |  25  |  NS.addStoredBlock: blkMap updated   |\n",
            "|  16  |     Failed to transfer* to* got*     |       |  16  |     Failed to transfer* to* got*     |\n",
            "|  24  |        ask* to replicate* to*        |       |  24  |        ask* to replicate* to*        |\n",
            "|  17  | Starting thread to transfer blk* to* |       |  17  | Starting thread to transfer blk* to* |\n",
            "|  4   |      Receiving blk* src&dest:*       |   !=  |  24  |        ask* to replicate* to*        |\n",
            "+------+--------------------------------------+-------+------+--------------------------------------+\n"
          ]
        }
      ],
      "source": [
        "\"\"\"Step 4: Interpret your anomaly and show the result\"\"\"\n",
        "interpretation = my_interpreter(seq, label)\n",
        "my_interpreter.show_table(anomaly_timeseries, interpretation)"
      ]
    },
    {
      "cell_type": "code",
      "source": [],
      "metadata": {
        "id": "LT2TagiG1pbd"
      },
      "id": "LT2TagiG1pbd",
      "execution_count": null,
      "outputs": []
    }
  ],
  "metadata": {
    "kernelspec": {
      "display_name": "Python 3 (ipykernel)",
      "language": "python",
      "name": "python3"
    },
    "language_info": {
      "codemirror_mode": {
        "name": "ipython",
        "version": 3
      },
      "file_extension": ".py",
      "mimetype": "text/x-python",
      "name": "python",
      "nbconvert_exporter": "python",
      "pygments_lexer": "ipython3",
      "version": "3.8.10"
    },
    "colab": {
      "provenance": [],
      "include_colab_link": true
    },
    "accelerator": "GPU",
    "gpuClass": "standard"
  },
  "nbformat": 4,
  "nbformat_minor": 5
}