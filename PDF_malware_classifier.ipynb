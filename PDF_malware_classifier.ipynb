{
  "cells": [
    {
      "cell_type": "markdown",
      "metadata": {
        "id": "view-in-github",
        "colab_type": "text"
      },
      "source": [
        "<a href=\"https://colab.research.google.com/github/OctoberFall/SoK-Security/blob/main/PDF_malware_classifier.ipynb\" target=\"_parent\"><img src=\"https://colab.research.google.com/assets/colab-badge.svg\" alt=\"Open In Colab\"/></a>"
      ]
    },
    {
      "cell_type": "markdown",
      "id": "66694d88",
      "metadata": {
        "id": "66694d88"
      },
      "source": [
        "# Build a multi-layer perceptron classifier to classify PDF samples into benign and malicious\n",
        "\n",
        "The black box PDF classifier is used to evaluate explanations on a test PDF sample.\n",
        "\n",
        "Reference: Evaluating Explanation Methods for Deep Learning in Security, A.Warnecke, D.Arp, C. Wressnegger and K.Rieck, IEEE European Symposium on Security and Privacy (Euro S&P), 2020. [Github](https://github.com/alewarne/explain-mlsec)"
      ]
    },
    {
      "cell_type": "markdown",
      "source": [
        "### Run each cell to execute the code. We will first download a google drive folder. The zipped folder contains all the required files for this notebook. \n",
        "\n",
        "Google drive link: https://drive.google.com/file/d/19xRRmpJiaqXiVc5YkA4E_qBUQvKxkaeH/view?usp=sharing "
      ],
      "metadata": {
        "id": "ctgJ-Rg04g5_"
      },
      "id": "ctgJ-Rg04g5_"
    },
    {
      "cell_type": "code",
      "source": [
        "!gdown 19xRRmpJiaqXiVc5YkA4E_qBUQvKxkaeH"
      ],
      "metadata": {
        "id": "C1Nnu5id4tSt",
        "outputId": "3d59a673-0f8c-45ba-9f5f-5fa8f1bc8750",
        "colab": {
          "base_uri": "https://localhost:8080/"
        }
      },
      "id": "C1Nnu5id4tSt",
      "execution_count": 4,
      "outputs": [
        {
          "output_type": "stream",
          "name": "stdout",
          "text": [
            "Downloading...\n",
            "From: https://drive.google.com/uc?id=19xRRmpJiaqXiVc5YkA4E_qBUQvKxkaeH\n",
            "To: /content/pdf_data.zip\n",
            "\r  0% 0.00/2.11M [00:00<?, ?B/s]\r100% 2.11M/2.11M [00:00<00:00, 163MB/s]\n"
          ]
        }
      ]
    },
    {
      "cell_type": "markdown",
      "source": [
        "#### Unzip the downloaded folder into the default folder."
      ],
      "metadata": {
        "id": "wfP3QyV-5KN4"
      },
      "id": "wfP3QyV-5KN4"
    },
    {
      "cell_type": "code",
      "source": [
        "!unzip \"/content/pdf_data.zip\""
      ],
      "metadata": {
        "id": "qoJoCSWf5M87",
        "outputId": "24b9391e-ce76-4055-ae6e-9cddcdcfd62d",
        "colab": {
          "base_uri": "https://localhost:8080/"
        }
      },
      "id": "qoJoCSWf5M87",
      "execution_count": 5,
      "outputs": [
        {
          "output_type": "stream",
          "name": "stdout",
          "text": [
            "Archive:  /content/pdf_data.zip\n",
            "   creating: pdf_data/\n",
            "  inflating: pdf_data/Columns.txt    \n",
            "  inflating: pdf_data/custom_metrics.py  \n",
            "   creating: pdf_data/data/\n",
            "  inflating: pdf_data/data/contagio-all.csv  \n",
            "   creating: pdf_data/lemna/\n",
            "  inflating: pdf_data/lemna/0        \n",
            "  inflating: pdf_data/lemna/betaspickle.pkl  \n",
            "  inflating: pdf_data/lemna/sigmas.npy  \n",
            "   creating: pdf_data/lime/\n",
            "  inflating: pdf_data/lime/relevances_lime.pkl  \n",
            "   creating: pdf_data/models/\n",
            "  inflating: pdf_data/models/keras_model.h5  \n",
            "   creating: pdf_data/perturbation/\n",
            "  inflating: pdf_data/perturbation/linreg_representations_seed_40.pkl  \n",
            "  inflating: pdf_data/perturbation/perturbation_labels_seed_40.npy  \n",
            "  inflating: pdf_data/utils.py       \n"
          ]
        }
      ]
    },
    {
      "cell_type": "code",
      "execution_count": 6,
      "id": "705757ab",
      "metadata": {
        "id": "705757ab"
      },
      "outputs": [],
      "source": [
        "import numpy as np\n",
        "import pandas as pd\n",
        "from sklearn.preprocessing import normalize\n",
        "from sklearn.model_selection import train_test_split"
      ]
    },
    {
      "cell_type": "code",
      "execution_count": 7,
      "id": "8dbc3a5c",
      "metadata": {
        "colab": {
          "base_uri": "https://localhost:8080/"
        },
        "id": "8dbc3a5c",
        "outputId": "d32754bd-e1e6-42ae-bffe-05ba536a55c4"
      },
      "outputs": [
        {
          "output_type": "execute_result",
          "data": {
            "text/plain": [
              "137"
            ]
          },
          "metadata": {},
          "execution_count": 7
        }
      ],
      "source": [
        "\n",
        "path_to_csv=\"pdf_data/data/contagio-all.csv\"\n",
        "non_relevant_columns = [1]  #filename is not relevant to classifier\n",
        "label_column = 0\n",
        "arr = np.genfromtxt(path_to_csv, dtype=str, delimiter=',', skip_header=0)\n",
        "filenames = arr[1:, 1]\n",
        "no_features = arr.shape[1]\n",
        "no_features"
      ]
    },
    {
      "cell_type": "code",
      "execution_count": 8,
      "id": "b794a8e1",
      "metadata": {
        "colab": {
          "base_uri": "https://localhost:8080/"
        },
        "id": "b794a8e1",
        "outputId": "d9a1e8da-42b8-45ad-ecfc-1f0ed40e61a4"
      },
      "outputs": [
        {
          "output_type": "stream",
          "name": "stderr",
          "text": [
            "/usr/local/lib/python3.7/dist-packages/ipykernel_launcher.py:2: DeprecationWarning: `np.float` is a deprecated alias for the builtin `float`. To silence this warning, use `float` by itself. Doing this will not modify any behavior and is safe. If you specifically wanted the numpy scalar type, use `np.float64` here.\n",
            "Deprecated in NumPy 1.20; for more details and guidance: https://numpy.org/devdocs/release/1.20.0-notes.html#deprecations\n",
            "  \n"
          ]
        }
      ],
      "source": [
        "columns_to_use = [i for i in range(no_features) if i not in non_relevant_columns]\n",
        "arr = np.genfromtxt(path_to_csv, dtype=np.float, delimiter=',', skip_header=1, usecols=columns_to_use)\n",
        "labels = arr[:, label_column]\n",
        "labels = np.array([[1,0] if l == 0 else [0,1] for l in labels])\n",
        "data = np.delete(arr, 0, axis=1)"
      ]
    },
    {
      "cell_type": "code",
      "execution_count": 9,
      "id": "9cb43a29",
      "metadata": {
        "id": "9cb43a29"
      },
      "outputs": [],
      "source": [
        "random_seed = 123456\n",
        "vec_output = True\n",
        "loss = 'binary_crossentropy'\n",
        "binary_encoding = True"
      ]
    },
    {
      "cell_type": "code",
      "execution_count": 10,
      "id": "994c9a8f",
      "metadata": {
        "id": "994c9a8f"
      },
      "outputs": [],
      "source": [
        "if binary_encoding:\n",
        "    data[np.where(data != 0)] = 1\n",
        "else:\n",
        "    data = normalize(data, 'max', axis=0)"
      ]
    },
    {
      "cell_type": "code",
      "execution_count": 11,
      "id": "b4818057",
      "metadata": {
        "id": "b4818057"
      },
      "outputs": [],
      "source": [
        "x_train, x_test, y_train, y_test = train_test_split(data, labels, test_size=0.25, random_state=random_seed)\n",
        "_, filenames_test = train_test_split(filenames, test_size=0.25, random_state=random_seed)\n"
      ]
    },
    {
      "cell_type": "markdown",
      "id": "141094aa",
      "metadata": {
        "id": "141094aa"
      },
      "source": [
        "## Add a MLP network"
      ]
    },
    {
      "cell_type": "code",
      "execution_count": 23,
      "id": "698d100d",
      "metadata": {
        "id": "698d100d"
      },
      "outputs": [],
      "source": [
        "import sys\n",
        "import os\n",
        "import numpy as np\n",
        "from keras.models import Sequential\n",
        "from keras.layers import Dense, Dropout\n",
        "from sklearn.model_selection import train_test_split\n",
        "from keras.callbacks import ModelCheckpoint\n",
        "from sklearn.metrics import confusion_matrix\n",
        "from sklearn.preprocessing import normalize\n",
        "import tensorflow as tf\n",
        "from tensorflow import keras\n",
        "#from tensorflow.keras import layers"
      ]
    },
    {
      "cell_type": "code",
      "execution_count": 24,
      "id": "82e21647",
      "metadata": {
        "id": "82e21647"
      },
      "outputs": [],
      "source": [
        "no_features=x_train.shape[1]\n",
        "vec_output = True\n",
        "final_nonlinearity = 'softmax'\n",
        "optimizer = 'adam'\n",
        "loss = 'binary_crossentropy'\n",
        "epochs = 100\n",
        "batch_size = 32"
      ]
    },
    {
      "cell_type": "code",
      "execution_count": 25,
      "id": "4de89253",
      "metadata": {
        "colab": {
          "base_uri": "https://localhost:8080/"
        },
        "id": "4de89253",
        "outputId": "89c0edfc-f10d-4604-bf1e-c2e1fbef659f"
      },
      "outputs": [
        {
          "output_type": "stream",
          "name": "stdout",
          "text": [
            "Epoch 1/100\n",
            "235/235 - 2s - loss: 0.1338 - accuracy: 0.9568 - val_loss: 0.0314 - val_accuracy: 0.9908 - 2s/epoch - 7ms/step\n",
            "Epoch 2/100\n",
            "235/235 - 1s - loss: 0.0459 - accuracy: 0.9876 - val_loss: 0.0340 - val_accuracy: 0.9860 - 699ms/epoch - 3ms/step\n",
            "Epoch 3/100\n",
            "235/235 - 1s - loss: 0.0427 - accuracy: 0.9868 - val_loss: 0.0240 - val_accuracy: 0.9924 - 678ms/epoch - 3ms/step\n",
            "Epoch 4/100\n",
            "235/235 - 1s - loss: 0.0331 - accuracy: 0.9904 - val_loss: 0.0226 - val_accuracy: 0.9928 - 672ms/epoch - 3ms/step\n",
            "Epoch 5/100\n",
            "235/235 - 1s - loss: 0.0370 - accuracy: 0.9879 - val_loss: 0.0205 - val_accuracy: 0.9936 - 656ms/epoch - 3ms/step\n",
            "Epoch 6/100\n",
            "235/235 - 1s - loss: 0.0294 - accuracy: 0.9903 - val_loss: 0.0242 - val_accuracy: 0.9936 - 679ms/epoch - 3ms/step\n",
            "Epoch 7/100\n",
            "235/235 - 1s - loss: 0.0304 - accuracy: 0.9900 - val_loss: 0.0176 - val_accuracy: 0.9944 - 655ms/epoch - 3ms/step\n",
            "Epoch 8/100\n",
            "235/235 - 1s - loss: 0.0271 - accuracy: 0.9915 - val_loss: 0.0188 - val_accuracy: 0.9932 - 668ms/epoch - 3ms/step\n",
            "Epoch 9/100\n",
            "235/235 - 1s - loss: 0.0248 - accuracy: 0.9925 - val_loss: 0.0188 - val_accuracy: 0.9940 - 660ms/epoch - 3ms/step\n",
            "Epoch 10/100\n",
            "235/235 - 1s - loss: 0.0248 - accuracy: 0.9909 - val_loss: 0.0210 - val_accuracy: 0.9940 - 619ms/epoch - 3ms/step\n",
            "Epoch 11/100\n",
            "235/235 - 1s - loss: 0.0227 - accuracy: 0.9932 - val_loss: 0.0290 - val_accuracy: 0.9904 - 678ms/epoch - 3ms/step\n",
            "Epoch 12/100\n",
            "235/235 - 1s - loss: 0.0205 - accuracy: 0.9933 - val_loss: 0.0171 - val_accuracy: 0.9940 - 688ms/epoch - 3ms/step\n",
            "Epoch 13/100\n",
            "235/235 - 1s - loss: 0.0202 - accuracy: 0.9932 - val_loss: 0.0159 - val_accuracy: 0.9940 - 662ms/epoch - 3ms/step\n",
            "Epoch 14/100\n",
            "235/235 - 1s - loss: 0.0204 - accuracy: 0.9931 - val_loss: 0.0156 - val_accuracy: 0.9944 - 676ms/epoch - 3ms/step\n",
            "Epoch 15/100\n",
            "235/235 - 1s - loss: 0.0194 - accuracy: 0.9936 - val_loss: 0.0160 - val_accuracy: 0.9948 - 641ms/epoch - 3ms/step\n",
            "Epoch 16/100\n",
            "235/235 - 1s - loss: 0.0175 - accuracy: 0.9941 - val_loss: 0.0159 - val_accuracy: 0.9948 - 619ms/epoch - 3ms/step\n",
            "Epoch 17/100\n",
            "235/235 - 1s - loss: 0.0191 - accuracy: 0.9947 - val_loss: 0.0138 - val_accuracy: 0.9948 - 722ms/epoch - 3ms/step\n",
            "Epoch 18/100\n",
            "235/235 - 1s - loss: 0.0158 - accuracy: 0.9953 - val_loss: 0.0133 - val_accuracy: 0.9952 - 698ms/epoch - 3ms/step\n",
            "Epoch 19/100\n",
            "235/235 - 1s - loss: 0.0166 - accuracy: 0.9948 - val_loss: 0.0143 - val_accuracy: 0.9956 - 616ms/epoch - 3ms/step\n",
            "Epoch 20/100\n",
            "235/235 - 1s - loss: 0.0183 - accuracy: 0.9939 - val_loss: 0.0161 - val_accuracy: 0.9960 - 646ms/epoch - 3ms/step\n",
            "Epoch 21/100\n",
            "235/235 - 1s - loss: 0.0161 - accuracy: 0.9948 - val_loss: 0.0123 - val_accuracy: 0.9960 - 659ms/epoch - 3ms/step\n",
            "Epoch 22/100\n",
            "235/235 - 1s - loss: 0.0169 - accuracy: 0.9944 - val_loss: 0.0137 - val_accuracy: 0.9972 - 604ms/epoch - 3ms/step\n",
            "Epoch 23/100\n",
            "235/235 - 1s - loss: 0.0151 - accuracy: 0.9959 - val_loss: 0.0117 - val_accuracy: 0.9964 - 665ms/epoch - 3ms/step\n",
            "Epoch 24/100\n",
            "235/235 - 1s - loss: 0.0143 - accuracy: 0.9947 - val_loss: 0.0139 - val_accuracy: 0.9960 - 613ms/epoch - 3ms/step\n",
            "Epoch 25/100\n",
            "235/235 - 1s - loss: 0.0147 - accuracy: 0.9952 - val_loss: 0.0122 - val_accuracy: 0.9960 - 650ms/epoch - 3ms/step\n",
            "Epoch 26/100\n",
            "235/235 - 1s - loss: 0.0125 - accuracy: 0.9955 - val_loss: 0.0139 - val_accuracy: 0.9968 - 678ms/epoch - 3ms/step\n",
            "Epoch 27/100\n",
            "235/235 - 1s - loss: 0.0144 - accuracy: 0.9948 - val_loss: 0.0116 - val_accuracy: 0.9972 - 673ms/epoch - 3ms/step\n",
            "Epoch 28/100\n",
            "235/235 - 1s - loss: 0.0096 - accuracy: 0.9969 - val_loss: 0.0128 - val_accuracy: 0.9976 - 673ms/epoch - 3ms/step\n",
            "Epoch 29/100\n",
            "235/235 - 1s - loss: 0.0131 - accuracy: 0.9965 - val_loss: 0.0164 - val_accuracy: 0.9960 - 689ms/epoch - 3ms/step\n",
            "Epoch 30/100\n",
            "235/235 - 1s - loss: 0.0151 - accuracy: 0.9957 - val_loss: 0.0117 - val_accuracy: 0.9964 - 675ms/epoch - 3ms/step\n",
            "Epoch 31/100\n",
            "235/235 - 1s - loss: 0.0145 - accuracy: 0.9955 - val_loss: 0.0163 - val_accuracy: 0.9944 - 666ms/epoch - 3ms/step\n",
            "Epoch 32/100\n",
            "235/235 - 1s - loss: 0.0129 - accuracy: 0.9963 - val_loss: 0.0146 - val_accuracy: 0.9960 - 677ms/epoch - 3ms/step\n",
            "Epoch 33/100\n",
            "235/235 - 1s - loss: 0.0126 - accuracy: 0.9955 - val_loss: 0.0106 - val_accuracy: 0.9980 - 615ms/epoch - 3ms/step\n",
            "Epoch 34/100\n",
            "235/235 - 1s - loss: 0.0124 - accuracy: 0.9967 - val_loss: 0.0131 - val_accuracy: 0.9960 - 645ms/epoch - 3ms/step\n",
            "Epoch 35/100\n",
            "235/235 - 1s - loss: 0.0138 - accuracy: 0.9948 - val_loss: 0.0111 - val_accuracy: 0.9972 - 665ms/epoch - 3ms/step\n",
            "Epoch 36/100\n",
            "235/235 - 1s - loss: 0.0098 - accuracy: 0.9969 - val_loss: 0.0097 - val_accuracy: 0.9976 - 649ms/epoch - 3ms/step\n",
            "Epoch 37/100\n",
            "235/235 - 1s - loss: 0.0107 - accuracy: 0.9952 - val_loss: 0.0126 - val_accuracy: 0.9968 - 616ms/epoch - 3ms/step\n",
            "Epoch 38/100\n",
            "235/235 - 1s - loss: 0.0132 - accuracy: 0.9959 - val_loss: 0.0092 - val_accuracy: 0.9988 - 641ms/epoch - 3ms/step\n",
            "Epoch 39/100\n",
            "235/235 - 1s - loss: 0.0102 - accuracy: 0.9961 - val_loss: 0.0099 - val_accuracy: 0.9980 - 618ms/epoch - 3ms/step\n",
            "Epoch 40/100\n",
            "235/235 - 1s - loss: 0.0130 - accuracy: 0.9953 - val_loss: 0.0106 - val_accuracy: 0.9972 - 634ms/epoch - 3ms/step\n",
            "Epoch 41/100\n",
            "235/235 - 1s - loss: 0.0102 - accuracy: 0.9968 - val_loss: 0.0112 - val_accuracy: 0.9964 - 625ms/epoch - 3ms/step\n",
            "Epoch 42/100\n",
            "235/235 - 1s - loss: 0.0109 - accuracy: 0.9960 - val_loss: 0.0097 - val_accuracy: 0.9980 - 641ms/epoch - 3ms/step\n",
            "Epoch 43/100\n",
            "235/235 - 1s - loss: 0.0112 - accuracy: 0.9961 - val_loss: 0.0116 - val_accuracy: 0.9976 - 628ms/epoch - 3ms/step\n",
            "Epoch 44/100\n",
            "235/235 - 1s - loss: 0.0082 - accuracy: 0.9976 - val_loss: 0.0128 - val_accuracy: 0.9964 - 618ms/epoch - 3ms/step\n",
            "Epoch 45/100\n",
            "235/235 - 1s - loss: 0.0105 - accuracy: 0.9963 - val_loss: 0.0131 - val_accuracy: 0.9968 - 668ms/epoch - 3ms/step\n",
            "Epoch 46/100\n",
            "235/235 - 1s - loss: 0.0101 - accuracy: 0.9968 - val_loss: 0.0116 - val_accuracy: 0.9956 - 660ms/epoch - 3ms/step\n",
            "Epoch 47/100\n",
            "235/235 - 1s - loss: 0.0087 - accuracy: 0.9967 - val_loss: 0.0123 - val_accuracy: 0.9964 - 660ms/epoch - 3ms/step\n",
            "Epoch 48/100\n",
            "235/235 - 1s - loss: 0.0115 - accuracy: 0.9963 - val_loss: 0.0118 - val_accuracy: 0.9968 - 622ms/epoch - 3ms/step\n",
            "Epoch 49/100\n",
            "235/235 - 1s - loss: 0.0075 - accuracy: 0.9976 - val_loss: 0.0099 - val_accuracy: 0.9980 - 654ms/epoch - 3ms/step\n",
            "Epoch 50/100\n",
            "235/235 - 1s - loss: 0.0115 - accuracy: 0.9967 - val_loss: 0.0098 - val_accuracy: 0.9976 - 659ms/epoch - 3ms/step\n",
            "Epoch 51/100\n",
            "235/235 - 1s - loss: 0.0103 - accuracy: 0.9967 - val_loss: 0.0113 - val_accuracy: 0.9968 - 741ms/epoch - 3ms/step\n",
            "Epoch 52/100\n",
            "235/235 - 1s - loss: 0.0109 - accuracy: 0.9960 - val_loss: 0.0147 - val_accuracy: 0.9964 - 677ms/epoch - 3ms/step\n",
            "Epoch 53/100\n",
            "235/235 - 1s - loss: 0.0108 - accuracy: 0.9959 - val_loss: 0.0113 - val_accuracy: 0.9972 - 635ms/epoch - 3ms/step\n",
            "Epoch 54/100\n",
            "235/235 - 1s - loss: 0.0070 - accuracy: 0.9972 - val_loss: 0.0168 - val_accuracy: 0.9964 - 675ms/epoch - 3ms/step\n",
            "Epoch 55/100\n",
            "235/235 - 1s - loss: 0.0129 - accuracy: 0.9955 - val_loss: 0.0140 - val_accuracy: 0.9972 - 660ms/epoch - 3ms/step\n",
            "Epoch 56/100\n",
            "235/235 - 1s - loss: 0.0092 - accuracy: 0.9969 - val_loss: 0.0177 - val_accuracy: 0.9964 - 624ms/epoch - 3ms/step\n",
            "Epoch 57/100\n",
            "235/235 - 1s - loss: 0.0065 - accuracy: 0.9973 - val_loss: 0.0121 - val_accuracy: 0.9984 - 659ms/epoch - 3ms/step\n",
            "Epoch 58/100\n",
            "235/235 - 1s - loss: 0.0100 - accuracy: 0.9968 - val_loss: 0.0121 - val_accuracy: 0.9984 - 650ms/epoch - 3ms/step\n",
            "Epoch 59/100\n",
            "235/235 - 1s - loss: 0.0102 - accuracy: 0.9964 - val_loss: 0.0170 - val_accuracy: 0.9964 - 661ms/epoch - 3ms/step\n",
            "Epoch 60/100\n",
            "235/235 - 1s - loss: 0.0087 - accuracy: 0.9969 - val_loss: 0.0158 - val_accuracy: 0.9964 - 663ms/epoch - 3ms/step\n",
            "Epoch 61/100\n",
            "235/235 - 1s - loss: 0.0067 - accuracy: 0.9976 - val_loss: 0.0142 - val_accuracy: 0.9952 - 604ms/epoch - 3ms/step\n",
            "Epoch 62/100\n",
            "235/235 - 1s - loss: 0.0097 - accuracy: 0.9975 - val_loss: 0.0117 - val_accuracy: 0.9988 - 673ms/epoch - 3ms/step\n",
            "Epoch 63/100\n",
            "235/235 - 1s - loss: 0.0077 - accuracy: 0.9977 - val_loss: 0.0105 - val_accuracy: 0.9972 - 1s/epoch - 5ms/step\n",
            "Epoch 64/100\n",
            "235/235 - 1s - loss: 0.0087 - accuracy: 0.9968 - val_loss: 0.0088 - val_accuracy: 0.9984 - 1s/epoch - 5ms/step\n",
            "Epoch 65/100\n",
            "235/235 - 1s - loss: 0.0072 - accuracy: 0.9979 - val_loss: 0.0150 - val_accuracy: 0.9964 - 659ms/epoch - 3ms/step\n",
            "Epoch 66/100\n",
            "235/235 - 1s - loss: 0.0093 - accuracy: 0.9965 - val_loss: 0.0125 - val_accuracy: 0.9952 - 678ms/epoch - 3ms/step\n",
            "Epoch 67/100\n",
            "235/235 - 1s - loss: 0.0098 - accuracy: 0.9960 - val_loss: 0.0101 - val_accuracy: 0.9976 - 698ms/epoch - 3ms/step\n",
            "Epoch 68/100\n",
            "235/235 - 1s - loss: 0.0046 - accuracy: 0.9980 - val_loss: 0.0167 - val_accuracy: 0.9968 - 672ms/epoch - 3ms/step\n",
            "Epoch 69/100\n",
            "235/235 - 1s - loss: 0.0060 - accuracy: 0.9983 - val_loss: 0.0108 - val_accuracy: 0.9980 - 708ms/epoch - 3ms/step\n",
            "Epoch 70/100\n",
            "235/235 - 1s - loss: 0.0063 - accuracy: 0.9977 - val_loss: 0.0129 - val_accuracy: 0.9968 - 624ms/epoch - 3ms/step\n",
            "Epoch 71/100\n",
            "235/235 - 1s - loss: 0.0080 - accuracy: 0.9969 - val_loss: 0.0127 - val_accuracy: 0.9968 - 619ms/epoch - 3ms/step\n",
            "Epoch 72/100\n",
            "235/235 - 1s - loss: 0.0076 - accuracy: 0.9975 - val_loss: 0.0112 - val_accuracy: 0.9984 - 650ms/epoch - 3ms/step\n",
            "Epoch 73/100\n",
            "235/235 - 1s - loss: 0.0069 - accuracy: 0.9976 - val_loss: 0.0119 - val_accuracy: 0.9968 - 670ms/epoch - 3ms/step\n",
            "Epoch 74/100\n",
            "235/235 - 1s - loss: 0.0099 - accuracy: 0.9967 - val_loss: 0.0161 - val_accuracy: 0.9968 - 669ms/epoch - 3ms/step\n",
            "Epoch 75/100\n",
            "235/235 - 1s - loss: 0.0097 - accuracy: 0.9964 - val_loss: 0.0133 - val_accuracy: 0.9976 - 647ms/epoch - 3ms/step\n",
            "Epoch 76/100\n",
            "235/235 - 1s - loss: 0.0074 - accuracy: 0.9976 - val_loss: 0.0134 - val_accuracy: 0.9968 - 625ms/epoch - 3ms/step\n",
            "Epoch 77/100\n",
            "235/235 - 1s - loss: 0.0068 - accuracy: 0.9980 - val_loss: 0.0101 - val_accuracy: 0.9988 - 629ms/epoch - 3ms/step\n",
            "Epoch 78/100\n",
            "235/235 - 1s - loss: 0.0079 - accuracy: 0.9972 - val_loss: 0.0123 - val_accuracy: 0.9972 - 603ms/epoch - 3ms/step\n",
            "Epoch 79/100\n",
            "235/235 - 1s - loss: 0.0092 - accuracy: 0.9972 - val_loss: 0.0109 - val_accuracy: 0.9972 - 649ms/epoch - 3ms/step\n",
            "Epoch 80/100\n",
            "235/235 - 1s - loss: 0.0067 - accuracy: 0.9983 - val_loss: 0.0117 - val_accuracy: 0.9984 - 668ms/epoch - 3ms/step\n",
            "Epoch 81/100\n",
            "235/235 - 1s - loss: 0.0082 - accuracy: 0.9967 - val_loss: 0.0098 - val_accuracy: 0.9988 - 693ms/epoch - 3ms/step\n",
            "Epoch 82/100\n",
            "235/235 - 1s - loss: 0.0059 - accuracy: 0.9976 - val_loss: 0.0117 - val_accuracy: 0.9980 - 638ms/epoch - 3ms/step\n",
            "Epoch 83/100\n",
            "235/235 - 1s - loss: 0.0068 - accuracy: 0.9977 - val_loss: 0.0100 - val_accuracy: 0.9984 - 656ms/epoch - 3ms/step\n",
            "Epoch 84/100\n",
            "235/235 - 1s - loss: 0.0097 - accuracy: 0.9964 - val_loss: 0.0123 - val_accuracy: 0.9972 - 653ms/epoch - 3ms/step\n",
            "Epoch 85/100\n",
            "235/235 - 1s - loss: 0.0056 - accuracy: 0.9981 - val_loss: 0.0215 - val_accuracy: 0.9964 - 647ms/epoch - 3ms/step\n",
            "Epoch 86/100\n",
            "235/235 - 1s - loss: 0.0079 - accuracy: 0.9975 - val_loss: 0.0084 - val_accuracy: 0.9988 - 671ms/epoch - 3ms/step\n",
            "Epoch 87/100\n",
            "235/235 - 1s - loss: 0.0084 - accuracy: 0.9967 - val_loss: 0.0179 - val_accuracy: 0.9968 - 661ms/epoch - 3ms/step\n",
            "Epoch 88/100\n",
            "235/235 - 1s - loss: 0.0080 - accuracy: 0.9968 - val_loss: 0.0120 - val_accuracy: 0.9968 - 674ms/epoch - 3ms/step\n",
            "Epoch 89/100\n",
            "235/235 - 1s - loss: 0.0052 - accuracy: 0.9985 - val_loss: 0.0166 - val_accuracy: 0.9952 - 611ms/epoch - 3ms/step\n",
            "Epoch 90/100\n",
            "235/235 - 1s - loss: 0.0041 - accuracy: 0.9981 - val_loss: 0.0149 - val_accuracy: 0.9960 - 662ms/epoch - 3ms/step\n",
            "Epoch 91/100\n",
            "235/235 - 1s - loss: 0.0102 - accuracy: 0.9967 - val_loss: 0.0139 - val_accuracy: 0.9968 - 672ms/epoch - 3ms/step\n",
            "Epoch 92/100\n",
            "235/235 - 1s - loss: 0.0053 - accuracy: 0.9979 - val_loss: 0.0116 - val_accuracy: 0.9968 - 609ms/epoch - 3ms/step\n",
            "Epoch 93/100\n",
            "235/235 - 1s - loss: 0.0076 - accuracy: 0.9971 - val_loss: 0.0091 - val_accuracy: 0.9984 - 666ms/epoch - 3ms/step\n",
            "Epoch 94/100\n",
            "235/235 - 1s - loss: 0.0048 - accuracy: 0.9988 - val_loss: 0.0118 - val_accuracy: 0.9976 - 661ms/epoch - 3ms/step\n",
            "Epoch 95/100\n",
            "235/235 - 1s - loss: 0.0059 - accuracy: 0.9979 - val_loss: 0.0104 - val_accuracy: 0.9976 - 639ms/epoch - 3ms/step\n",
            "Epoch 96/100\n",
            "235/235 - 1s - loss: 0.0066 - accuracy: 0.9980 - val_loss: 0.0116 - val_accuracy: 0.9976 - 728ms/epoch - 3ms/step\n",
            "Epoch 97/100\n",
            "235/235 - 1s - loss: 0.0092 - accuracy: 0.9971 - val_loss: 0.0101 - val_accuracy: 0.9980 - 630ms/epoch - 3ms/step\n",
            "Epoch 98/100\n",
            "235/235 - 1s - loss: 0.0078 - accuracy: 0.9973 - val_loss: 0.0111 - val_accuracy: 0.9972 - 687ms/epoch - 3ms/step\n",
            "Epoch 99/100\n",
            "235/235 - 1s - loss: 0.0046 - accuracy: 0.9988 - val_loss: 0.0169 - val_accuracy: 0.9964 - 653ms/epoch - 3ms/step\n",
            "Epoch 100/100\n",
            "235/235 - 1s - loss: 0.0063 - accuracy: 0.9979 - val_loss: 0.0102 - val_accuracy: 0.9976 - 623ms/epoch - 3ms/step\n"
          ]
        },
        {
          "output_type": "execute_result",
          "data": {
            "text/plain": [
              "<keras.callbacks.History at 0x7fec32789590>"
            ]
          },
          "metadata": {},
          "execution_count": 25
        }
      ],
      "source": [
        "model = keras.Sequential()\n",
        "model.add(Dense(units=200, activation='relu', input_shape=(no_features, )))\n",
        "model.add(Dropout(rate=0.5))\n",
        "model.add(Dense(units=200, activation='relu'))\n",
        "model.add(Dropout(rate=0.5))\n",
        "model.add(Dense(units=2, activation='softmax'))\n",
        "model.compile(optimizer, loss, metrics=['accuracy'])\n",
        "model.fit(x_train, y_train, batch_size, epochs, validation_data=(x_test, y_test), verbose=2)"
      ]
    },
    {
      "cell_type": "code",
      "execution_count": 26,
      "id": "091e104e",
      "metadata": {
        "id": "091e104e"
      },
      "outputs": [],
      "source": [
        "model.save(filepath=\"models/keras_model.h5\")"
      ]
    },
    {
      "cell_type": "code",
      "execution_count": 27,
      "id": "7fa7c5ec",
      "metadata": {
        "id": "7fa7c5ec"
      },
      "outputs": [],
      "source": [
        "# prints accuracy, precision, recall, fpr and f1 score for given model and test set with labels\n",
        "def get_statistics(model, x_test, y_test):\n",
        "    y_pred = np.argmax(model.predict(x_test), axis=1)\n",
        "    y_test = np.argmax(y_test, axis=1)\n",
        "    assert len(y_pred) == len(y_test)\n",
        "    acc = np.sum(y_pred==y_test)/np.float(len(y_pred))\n",
        "    cm = confusion_matrix(y_test, y_pred)\n",
        "    TN, FN, TP, FP = cm[0,0], cm[1,0], cm[1,1], cm[0,1]\n",
        "    TPR = TP/(TP+FN)\n",
        "    FPR = FP/(FP+TN)\n",
        "    precision = TP/(TP+FP)\n",
        "    F1 = 2*TP/(2*TP+FP+FN)\n",
        "    print('The model achieved: Accuracy:{}, Precision:{}, Recall:{}, FPR:{}, F1 score:{} on the test set.'.format(\n",
        "        acc, precision, TPR, FPR, F1))"
      ]
    },
    {
      "cell_type": "code",
      "execution_count": 28,
      "id": "5f2f8e3a",
      "metadata": {
        "colab": {
          "base_uri": "https://localhost:8080/"
        },
        "id": "5f2f8e3a",
        "outputId": "783916ce-98c6-4ac5-803b-9f325e3ae525"
      },
      "outputs": [
        {
          "output_type": "stream",
          "name": "stdout",
          "text": [
            "79/79 [==============================] - 0s 1ms/step\n",
            "The model achieved: Accuracy:0.9976, Precision:0.9975103734439834, Recall:0.9975103734439834, FPR:0.0023166023166023165, F1 score:0.9975103734439834 on the test set.\n"
          ]
        },
        {
          "output_type": "stream",
          "name": "stderr",
          "text": [
            "/usr/local/lib/python3.7/dist-packages/ipykernel_launcher.py:6: DeprecationWarning: `np.float` is a deprecated alias for the builtin `float`. To silence this warning, use `float` by itself. Doing this will not modify any behavior and is safe. If you specifically wanted the numpy scalar type, use `np.float64` here.\n",
            "Deprecated in NumPy 1.20; for more details and guidance: https://numpy.org/devdocs/release/1.20.0-notes.html#deprecations\n",
            "  \n"
          ]
        }
      ],
      "source": [
        "get_statistics(model, x_test, y_test)"
      ]
    },
    {
      "cell_type": "markdown",
      "source": [
        "## The model obtains excellent results on test set and is ready for evaluating explanations methods."
      ],
      "metadata": {
        "id": "-v8Fivai74-u"
      },
      "id": "-v8Fivai74-u"
    }
  ],
  "metadata": {
    "kernelspec": {
      "display_name": "Python 3 (ipykernel)",
      "language": "python",
      "name": "python3"
    },
    "language_info": {
      "codemirror_mode": {
        "name": "ipython",
        "version": 3
      },
      "file_extension": ".py",
      "mimetype": "text/x-python",
      "name": "python",
      "nbconvert_exporter": "python",
      "pygments_lexer": "ipython3",
      "version": "3.8.10"
    },
    "colab": {
      "provenance": [],
      "include_colab_link": true
    }
  },
  "nbformat": 4,
  "nbformat_minor": 5
}