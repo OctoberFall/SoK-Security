{
 "cells": [
  {
   "cell_type": "markdown",
   "id": "1d568235",
   "metadata": {},
   "source": [
    "# Using DeepAid for model interpretability \n",
    "\n",
    "Reference: DeepAID, Interpreting and Improving Deep Learning-Based Anomaly Detection in Security Applications [Github](https://github.com/dongtsi/DeepAID)"
   ]
  },
  {
   "cell_type": "code",
   "execution_count": 2,
   "id": "06303f00",
   "metadata": {},
   "outputs": [],
   "source": [
    "import numpy as np\n",
    "from sklearn.metrics import confusion_matrix, roc_curve\n",
    "import torch\n",
    "\n",
    "def validate_by_rmse(rmse_vec,thres,label):\n",
    "    pred = np.asarray([0] * len(rmse_vec))\n",
    "    idx = np.where(rmse_vec>thres)\n",
    "    pred[idx] = 1\n",
    "    cnf_matrix = confusion_matrix(label, pred)\n",
    "    FP = cnf_matrix.sum(axis=0) - np.diag(cnf_matrix)  \n",
    "    FN = cnf_matrix.sum(axis=1) - np.diag(cnf_matrix)\n",
    "    TP = np.diag(cnf_matrix)\n",
    "    TN = cnf_matrix.sum() - (FP + FN + TP)\n",
    "\n",
    "    FP = FP.astype(float)\n",
    "    FN = FN.astype(float)\n",
    "    TP = TP.astype(float)\n",
    "    TN = TN.astype(float)\n",
    "\n",
    "    TPR = (TP/(TP+FN))[1]\n",
    "    FPR = (FP/(FP+TN))[1]\n",
    "    print(\"TPR:\",TPR,\"|FPR:\",FPR)\n",
    "\n",
    "    return pred\n",
    "\n",
    "class Normalizer:\n",
    "    def __init__(self, \n",
    "            dim, \n",
    "            normer=\"minmax\",\n",
    "            online_minmax=False): # whether fit_transform online (see Kitsune), *available only for normer=\"minmax\"\n",
    "\n",
    "        self.dim = dim # feature dimensionality\n",
    "        self.normer = normer\n",
    "        if self.normer == 'minmax':\n",
    "            self.online_minmax = online_minmax\n",
    "            self.norm_max = [-np.Inf] * self.dim\n",
    "            self.norm_min = [np.Inf] * self.dim\n",
    "        else:\n",
    "            raise NotImplementedError # Implement other Normalizer here\n",
    "        \n",
    "    def fit_transform(self,train_feat):\n",
    "        if self.normer == 'minmax':\n",
    "            return self._minmax_fit_transform(train_feat)\n",
    "        else:\n",
    "            raise NotImplementedError # Implement other Normalizer here\n",
    "\n",
    "    def transform(self,feat):\n",
    "        if self.normer == 'minmax':\n",
    "            return self._minmax_transform(feat)\n",
    "        else:\n",
    "            raise NotImplementedError # Implement other Normalizer here\n",
    "\n",
    "    def restore(self,feat):\n",
    "        if self.normer == 'minmax':\n",
    "            return self._minmax_restore(feat)\n",
    "        else:\n",
    "            raise NotImplementedError # Implement other Normalizer here\n",
    "        \n",
    "    def _minmax_fit_transform(self,train_feat):\n",
    "        if not self.online_minmax:\n",
    "            self.norm_min = np.min(train_feat,axis=0)\n",
    "            self.norm_max = np.max(train_feat,axis=0)\n",
    "            norm_feat = (train_feat - self.norm_min) / (self.norm_max-self.norm_min+1e-10)\n",
    "            return norm_feat\n",
    "        else:\n",
    "            norm_feat = []\n",
    "            self.norm_max, self.norm_min = np.asarray(self.norm_max), np.asarray(self.norm_min)\n",
    "            for i in range(len(train_feat)):\n",
    "                x = train_feat[i]\n",
    "                self.norm_max[x>self.norm_max] = x[x>self.norm_max]\n",
    "                self.norm_min[x<self.norm_min] = x[x<self.norm_min]\n",
    "                norm_feat.append((x - self.norm_min) / (self.norm_max-self.norm_min+1e-10))\n",
    "            return np.asarray(norm_feat)\n",
    "\n",
    "    def _minmax_transform(self, feat):\n",
    "        norm_feat = (feat - self.norm_min) / (self.norm_max-self.norm_min+1e-10)\n",
    "        return norm_feat\n",
    "\n",
    "    def _minmax_restore(self, feat):\n",
    "        denorm_feat = feat * (self.norm_max-self.norm_min+1e-10) + self.norm_min\n",
    "        return denorm_feat\n",
    "    \n",
    "    # def _olminmax_fit_transform(self, train_feat):\n",
    "    #     norm_feat = []\n",
    "    #     for i in range(len(train_feat)):\n",
    "    #         x = train_feat[i]\n",
    "    #         self.norm_max[x>self.norm_max] = x[x>self.norm_max]\n",
    "    #         self.norm_min[x<self.norm_min] = x[x<self.norm_min]\n",
    "    #         norm_feat.append(x - self.norm_min) / (self.norm_max-self.norm_min+1e-10)\n",
    "    #     return np.asarray(norm_feat)\n",
    "    \n",
    "    # def _olminmax_transform(self, feat):\n",
    "    #     norm_feat = (feat - self.norm_min) / (self.norm_max-self.norm_min+1e-10)\n",
    "    #     return norm_feat\n",
    "\n",
    "\n",
    "\"\"\" Deeplog tools \"\"\"\n",
    "def deeplogtools_seqformat(model, abnormal_data, num_candidates, index=0):\n",
    "    import keras.utils.np_utils as np_utils\n",
    "    device = torch.device(\"cuda\" if torch.cuda.is_available() else \"cpu\")\n",
    "\n",
    "    X = abnormal_data.copy()\n",
    "    y, X = X[:,-1], np_utils.to_categorical(X[:,:-1])\n",
    "    Output = model(torch.from_numpy(X).type(torch.float).to(device))\n",
    "    TP_idx = []\n",
    "    for i in range(len(Output)):\n",
    "        output = Output[i]\n",
    "        label = y[i]\n",
    "        predicted = torch.argsort(output)[-num_candidates:]\n",
    "        if label not in predicted:\n",
    "            TP_idx.append(i)\n",
    "    seq_feat = np_utils.to_categorical(abnormal_data[TP_idx])\n",
    "    feat = seq_feat[index]\n",
    "    seq = torch.from_numpy(feat[:-1,:]).to(device)\n",
    "    label = torch.tensor(np.argmax(feat[-1])).unsqueeze(0).to(device)\n",
    "    return seq,label, abnormal_data[TP_idx][index]\n",
    "\n",
    "\"\"\" Multi LSTM tools \"\"\"\n",
    "def multiLSTM_seqformat(test_feat, seq_len = 5, index=0):\n",
    "    import more_itertools\n",
    "\n",
    "    X_test = more_itertools.windowed(test_feat[:,:],n=seq_len,step=1)\n",
    "    X_test = np.asarray(list(X_test))\n",
    "    y_test = np.asarray(test_feat[seq_len-1:])\n",
    "\n",
    "    # print(\"X_test:\",X_test.shape,\"y_test:\",y_test.shape)\n",
    "    i = index\n",
    "    interp_feat = y_test[i]\n",
    "    seq_feat = np.asarray([X_test[i]]) \n",
    "    # print(\"seq_feat:\",seq_feat.shape,\"interp_feat:\",interp_feat.shape)\n",
    "\n",
    "    return seq_feat, interp_feat"
   ]
  },
  {
   "cell_type": "code",
   "execution_count": 3,
   "id": "4c92cc60",
   "metadata": {},
   "outputs": [],
   "source": [
    "\"\"\"\n",
    "This implementation of DeepLog is based on the open-source code at \n",
    "https://github.com/wuyifan18/DeepLog \n",
    "\"\"\"\n",
    "import time\n",
    "import torch\n",
    "import torch.nn as nn\n",
    "import torch.nn.functional as F\n",
    "from torch.utils.data import TensorDataset, DataLoader\n",
    "import torch.optim as optim\n",
    "import numpy as np\n",
    "\n",
    "device = torch.device(\"cuda\" if torch.cuda.is_available() else \"cpu\")\n",
    "\n",
    "# Hyperparameters \n",
    "num_classes = 28 # Fixed for this demo\n",
    "window_size = 10 # Fixed for this demo \n",
    "num_layers = 2 \n",
    "hidden_size = 64 \n",
    "num_epochs = 300\n",
    "batch_size = 2048\n",
    "num_candidates = 9 \n",
    "\n",
    "class LSTM_onehot(nn.Module):\n",
    "    def __init__(self, hidden_size, num_layers, num_keys):\n",
    "        super(LSTM_onehot, self).__init__()\n",
    "        self.hidden_size = hidden_size\n",
    "        self.num_layers = num_layers\n",
    "        self.lstm = nn.LSTM(num_keys, hidden_size, num_layers, batch_first=True)\n",
    "        self.fc = nn.Linear(hidden_size, num_keys)\n",
    "\n",
    "    def forward(self, x):\n",
    "        h0 = torch.zeros(self.num_layers, x.size(0), self.hidden_size).to(device)\n",
    "        c0 = torch.zeros(self.num_layers, x.size(0), self.hidden_size).to(device)\n",
    "        out, _ = self.lstm(x, (h0, c0))\n",
    "        out = self.fc(out[:, -1, :])\n",
    "        return out\n",
    "\n",
    "\n",
    "def train_deeplog(input_seq, output_label):\n",
    "    seq_dataset = TensorDataset(torch.tensor(input_seq, dtype=torch.long), torch.tensor(output_label))\n",
    "    dataloader = DataLoader(seq_dataset, batch_size=batch_size, shuffle=True, pin_memory=True)\n",
    "    model = LSTM_onehot( hidden_size, num_layers, num_classes).to(device)\n",
    "    # Loss and optimizer\n",
    "    criterion = nn.CrossEntropyLoss()\n",
    "    optimizer = optim.Adam(model.parameters())\n",
    "\n",
    "    # Train the model\n",
    "    start_time = time.time()\n",
    "    total_step = len(dataloader)\n",
    "    for epoch in range(num_epochs):  # Loop over the dataset multiple times\n",
    "        train_loss = 0\n",
    "        for step, (seq, label) in enumerate(dataloader):\n",
    "            seq = seq.clone().detach().view(-1, window_size).to(device)\n",
    "            seq = F.one_hot(seq,num_classes=num_classes).float()\n",
    "            output = model(seq)\n",
    "            \n",
    "            loss = criterion(output, label.to(device))\n",
    "            # Backward and optimize\n",
    "            optimizer.zero_grad()\n",
    "            loss.backward()\n",
    "            train_loss += loss.item()\n",
    "            optimizer.step()\n",
    "        print('Epoch [{}/{}], train_loss: {:.4f}'.format(epoch + 1, num_epochs, train_loss / total_step))\n",
    "        \n",
    "    elapsed_time = time.time() - start_time\n",
    "    print('elapsed_time: {:.3f}s'.format(elapsed_time))\n",
    "\n",
    "    return model\n",
    "\n",
    "\n",
    "def test_deeplog(model, test_normal_loader, test_abnormal_loader):\n",
    "    model.eval()\n",
    "    TP = 0\n",
    "    FP = 0\n",
    "    # Test the model\n",
    "    start_time = time.time()\n",
    "    with torch.no_grad():\n",
    "        for line in test_normal_loader:\n",
    "            for i in range(len(line) - window_size):\n",
    "                seq = line[i:i + window_size]\n",
    "                label = line[i + window_size]\n",
    "                seq = torch.tensor(seq, dtype=torch.long).view(-1, window_size).to(device)\n",
    "                seq = F.one_hot(seq,num_classes=num_classes).float()\n",
    "                label = torch.tensor(label).view(-1).to(device)\n",
    "                output = model(seq)\n",
    "                predicted = torch.argsort(output, 1)[0][-num_candidates:]\n",
    "                if label not in predicted:\n",
    "                    FP += 1\n",
    "                    break\n",
    "\n",
    "    with torch.no_grad():\n",
    "        for line in test_abnormal_loader:\n",
    "            for i in range(len(line) - window_size):\n",
    "                seq = line[i:i + window_size]\n",
    "                label = line[i + window_size]\n",
    "                if label == -1:\n",
    "                    TP += 1\n",
    "                    break\n",
    "                seq = torch.tensor(seq, dtype=torch.long).view(-1, window_size).to(device)\n",
    "                seq = F.one_hot(seq,num_classes=num_classes).float()\n",
    "                label = torch.tensor(label).view(-1).to(device)\n",
    "                output = model(seq)\n",
    "                predicted = torch.argsort(output, 1)[0][-num_candidates:]\n",
    "                if label not in predicted:\n",
    "                    TP += 1\n",
    "                    break\n",
    "\n",
    "    elapsed_time = time.time() - start_time\n",
    "    print('elapsed_time: {:.3f}s'.format(elapsed_time))\n",
    "    # Compute precision, recall and F1-measure\n",
    "    FN = len(test_abnormal_loader) - TP\n",
    "    P = 100 * TP / (TP + FP)\n",
    "    R = 100 * TP / (TP + FN)\n",
    "    F1 = 2 * P * R / (P + R)\n",
    "    print('false positive (FP): {}, false negative (FN): {}, Precision: {:.3f}%, Recall: {:.3f}%, F1-measure: {:.3f}%'.format(FP, FN, P, R, F1))\n",
    "    print('Finished Predicting')"
   ]
  },
  {
   "cell_type": "code",
   "execution_count": 4,
   "id": "dfa15eea",
   "metadata": {},
   "outputs": [],
   "source": [
    "import torch\n",
    "from deeplog import *"
   ]
  },
  {
   "cell_type": "code",
   "execution_count": 5,
   "id": "6d4f2c9a",
   "metadata": {},
   "outputs": [],
   "source": [
    "from deeplog import LSTM_onehot\n",
    "import torch\n",
    "model = torch.load('LSTM_onehot.pth.tar')"
   ]
  },
  {
   "cell_type": "code",
   "execution_count": 6,
   "id": "8cd114f7",
   "metadata": {},
   "outputs": [
    {
     "name": "stderr",
     "output_type": "stream",
     "text": [
      "2022-10-25 10:28:37.242228: I tensorflow/core/platform/cpu_feature_guard.cc:193] This TensorFlow binary is optimized with oneAPI Deep Neural Network Library (oneDNN) to use the following CPU instructions in performance-critical operations:  AVX2 FMA\n",
      "To enable them in other operations, rebuild TensorFlow with the appropriate compiler flags.\n",
      "2022-10-25 10:28:37.369062: W tensorflow/stream_executor/platform/default/dso_loader.cc:64] Could not load dynamic library 'libcudart.so.11.0'; dlerror: libcudart.so.11.0: cannot open shared object file: No such file or directory\n",
      "2022-10-25 10:28:37.369076: I tensorflow/stream_executor/cuda/cudart_stub.cc:29] Ignore above cudart dlerror if you do not have a GPU set up on your machine.\n",
      "2022-10-25 10:28:37.391596: E tensorflow/stream_executor/cuda/cuda_blas.cc:2981] Unable to register cuBLAS factory: Attempting to register factory for plugin cuBLAS when one has already been registered\n",
      "2022-10-25 10:28:37.865297: W tensorflow/stream_executor/platform/default/dso_loader.cc:64] Could not load dynamic library 'libnvinfer.so.7'; dlerror: libnvinfer.so.7: cannot open shared object file: No such file or directory\n",
      "2022-10-25 10:28:37.865378: W tensorflow/stream_executor/platform/default/dso_loader.cc:64] Could not load dynamic library 'libnvinfer_plugin.so.7'; dlerror: libnvinfer_plugin.so.7: cannot open shared object file: No such file or directory\n",
      "2022-10-25 10:28:37.865384: W tensorflow/compiler/tf2tensorrt/utils/py_utils.cc:38] TF-TRT Warning: Cannot dlopen some TensorRT libraries. If you would like to use Nvidia GPU with TensorRT, please make sure the missing libraries mentioned above are installed properly.\n"
     ]
    }
   ],
   "source": [
    "\"\"\"Step 2: Find an anomaly you are interested in\"\"\"\n",
    "abnormal_data = np.load('abnormal_data.npy')\n",
    "idx = 100\n",
    "seq, label, anomaly_timeseries = deeplogtools_seqformat(model, abnormal_data, num_candidates=9, index=idx)"
   ]
  },
  {
   "cell_type": "code",
   "execution_count": 19,
   "id": "321dda50",
   "metadata": {},
   "outputs": [
    {
     "data": {
      "text/plain": [
       "tensor([[0., 0., 0., 0., 1., 0., 0., 0., 0., 0., 0., 0., 0., 0., 0., 0., 0., 0.,\n",
       "         0., 0., 0., 0., 0., 0., 0., 0., 0., 0.],\n",
       "        [0., 0., 0., 0., 0., 0., 0., 0., 0., 0., 1., 0., 0., 0., 0., 0., 0., 0.,\n",
       "         0., 0., 0., 0., 0., 0., 0., 0., 0., 0.],\n",
       "        [0., 0., 0., 0., 0., 0., 0., 0., 0., 1., 0., 0., 0., 0., 0., 0., 0., 0.,\n",
       "         0., 0., 0., 0., 0., 0., 0., 0., 0., 0.],\n",
       "        [0., 0., 0., 0., 0., 0., 0., 0., 0., 0., 0., 0., 0., 1., 0., 0., 0., 0.,\n",
       "         0., 0., 0., 0., 0., 0., 0., 0., 0., 0.],\n",
       "        [0., 0., 0., 0., 0., 0., 1., 0., 0., 0., 0., 0., 0., 0., 0., 0., 0., 0.,\n",
       "         0., 0., 0., 0., 0., 0., 0., 0., 0., 0.],\n",
       "        [0., 0., 0., 0., 0., 0., 0., 1., 0., 0., 0., 0., 0., 0., 0., 0., 0., 0.,\n",
       "         0., 0., 0., 0., 0., 0., 0., 0., 0., 0.],\n",
       "        [0., 0., 0., 0., 0., 0., 0., 0., 0., 0., 1., 0., 0., 0., 0., 0., 0., 0.,\n",
       "         0., 0., 0., 0., 0., 0., 0., 0., 0., 0.],\n",
       "        [0., 0., 0., 0., 0., 0., 0., 0., 0., 0., 0., 0., 0., 1., 0., 0., 0., 0.,\n",
       "         0., 0., 0., 0., 0., 0., 0., 0., 0., 0.],\n",
       "        [0., 0., 0., 0., 0., 0., 1., 0., 0., 0., 0., 0., 0., 0., 0., 0., 0., 0.,\n",
       "         0., 0., 0., 0., 0., 0., 0., 0., 0., 0.],\n",
       "        [0., 0., 0., 0., 0., 0., 0., 0., 0., 0., 1., 0., 0., 0., 0., 0., 0., 0.,\n",
       "         0., 0., 0., 0., 0., 0., 0., 0., 0., 0.]], device='cuda:0')"
      ]
     },
     "execution_count": 19,
     "metadata": {},
     "output_type": "execute_result"
    }
   ],
   "source": [
    "seq "
   ]
  },
  {
   "cell_type": "code",
   "execution_count": 20,
   "id": "3e479029",
   "metadata": {},
   "outputs": [
    {
     "data": {
      "text/plain": [
       "tensor([9], device='cuda:0')"
      ]
     },
     "execution_count": 20,
     "metadata": {},
     "output_type": "execute_result"
    }
   ],
   "source": [
    "label"
   ]
  },
  {
   "cell_type": "code",
   "execution_count": 21,
   "id": "06af1fee",
   "metadata": {},
   "outputs": [
    {
     "data": {
      "text/plain": [
       "array([ 4, 10,  9, 13,  6,  7, 10, 13,  6, 10,  9])"
      ]
     },
     "execution_count": 21,
     "metadata": {},
     "output_type": "execute_result"
    }
   ],
   "source": [
    "anomaly_timeseries"
   ]
  },
  {
   "cell_type": "code",
   "execution_count": 25,
   "id": "daa7a544",
   "metadata": {},
   "outputs": [
    {
     "name": "stdout",
     "output_type": "stream",
     "text": [
      "Successfully Initialize <Univariate Timeseries Interptreter> for Model <LSTM_onehot>\n"
     ]
    }
   ],
   "source": [
    "\"\"\"Step 3: Create a DeepAID Interpreter\"\"\"\n",
    "\n",
    "from timeseries_onehot import UniTimeseriesAID\n",
    "feature_desc = np.load('log_key_meanning.npy') # feature_description\n",
    "my_interpreter = UniTimeseriesAID(model, feature_desc=feature_desc, class_num=28)"
   ]
  },
  {
   "cell_type": "code",
   "execution_count": 26,
   "id": "a79d818b",
   "metadata": {},
   "outputs": [
    {
     "name": "stdout",
     "output_type": "stream",
     "text": [
      "\n",
      "Visualize Interpretation (Table View)\n",
      "+------+-------------------------------------+-------+------+-------------------------------------+\n",
      "| Ano. |               Meaning               | Diff. | Ref. |               Meaning*              |\n",
      "+------+-------------------------------------+-------+------+-------------------------------------+\n",
      "|  4   |      Receiving blk* src&dest:*      |       |  4   |      Receiving blk* src&dest:*      |\n",
      "|  10  |  PktResponder* for blk* terminating |       |  10  |  PktResponder* for blk* terminating |\n",
      "|  9   |       PktResponder* Exception       |       |  9   |       PktResponder* Exception       |\n",
      "|  13  |  Exception in receiveBlock for blk* |       |  13  |  Exception in receiveBlock for blk* |\n",
      "|  6   |   writeBlock* received exception*   |       |  6   |   writeBlock* received exception*   |\n",
      "|  7   | PktResponder* for blk* Interrupted. |       |  7   | PktResponder* for blk* Interrupted. |\n",
      "|  10  |  PktResponder* for blk* terminating |       |  10  |  PktResponder* for blk* terminating |\n",
      "|  13  |  Exception in receiveBlock for blk* |       |  13  |  Exception in receiveBlock for blk* |\n",
      "|  6   |   writeBlock* received exception*   |       |  6   |   writeBlock* received exception*   |\n",
      "|  10  |  PktResponder* for blk* terminating |       |  10  |  PktResponder* for blk* terminating |\n",
      "|  9   |       PktResponder* Exception       |   !=  |  1   |        Verification succeeded       |\n",
      "+------+-------------------------------------+-------+------+-------------------------------------+\n"
     ]
    },
    {
     "name": "stderr",
     "output_type": "stream",
     "text": [
      "/home/db1702/PhD Research/Explainability/deepaid/timeseries_onehot.py:61: UserWarning: Implicit dimension choice for softmax has been deprecated. Change the call to include dim=X as an argument.\n",
      "  loss_accuracy = Bound(self.bound_thres-Logit(out)[label[0]])\n",
      "/home/db1702/PhD Research/Explainability/deepaid/timeseries_onehot.py:74: UserWarning: Implicit dimension choice for softmax has been deprecated. Change the call to include dim=X as an argument.\n",
      "  if torch.max(Logit(out)).cpu().data > self.pos_thres:\n",
      "/home/db1702/PhD Research/Explainability/deepaid/timeseries_onehot.py:77: UserWarning: Implicit dimension choice for softmax has been deprecated. Change the call to include dim=X as an argument.\n",
      "  IDX2.append(torch.argmax(Logit(out)).cpu().data.numpy().tolist())\n"
     ]
    }
   ],
   "source": [
    "\"\"\"Step 4: Interpret your anomaly and show the result\"\"\"\n",
    "interpretation = my_interpreter(seq, label)\n",
    "my_interpreter.show_table(anomaly_timeseries, interpretation)"
   ]
  },
  {
   "cell_type": "markdown",
   "id": "d258d6f3",
   "metadata": {},
   "source": [
    "## Second experiment"
   ]
  },
  {
   "cell_type": "code",
   "execution_count": 7,
   "id": "d71afce9",
   "metadata": {},
   "outputs": [],
   "source": [
    "\"\"\"Step 2: Find an anomaly you are interested in\"\"\"\n",
    "abnormal_data = np.load('abnormal_data.npy')\n",
    "idx = 10\n",
    "seq, label, anomaly_timeseries = deeplogtools_seqformat(model, abnormal_data, num_candidates=9, index=idx)"
   ]
  },
  {
   "cell_type": "code",
   "execution_count": 8,
   "id": "9fe0414f",
   "metadata": {},
   "outputs": [
    {
     "data": {
      "text/plain": [
       "tensor([[0., 0., 0., 0., 0., 0., 0., 0., 0., 0., 1., 0., 0., 0., 0., 0., 0., 0.,\n",
       "         0., 0., 0., 0., 0., 0., 0., 0., 0., 0.],\n",
       "        [0., 0., 0., 0., 0., 0., 0., 0., 1., 0., 0., 0., 0., 0., 0., 0., 0., 0.,\n",
       "         0., 0., 0., 0., 0., 0., 0., 0., 0., 0.],\n",
       "        [0., 0., 0., 0., 0., 0., 0., 0., 0., 0., 0., 0., 0., 0., 0., 0., 0., 0.,\n",
       "         0., 0., 0., 0., 0., 0., 0., 1., 0., 0.],\n",
       "        [0., 0., 0., 0., 0., 0., 0., 0., 0., 0., 0., 0., 0., 0., 0., 0., 0., 1.,\n",
       "         0., 0., 0., 0., 0., 0., 0., 0., 0., 0.],\n",
       "        [0., 0., 0., 0., 0., 0., 0., 0., 0., 0., 0., 0., 0., 0., 0., 0., 0., 0.,\n",
       "         0., 0., 0., 0., 0., 0., 1., 0., 0., 0.],\n",
       "        [0., 0., 0., 0., 1., 0., 0., 0., 0., 0., 0., 0., 0., 0., 0., 0., 0., 0.,\n",
       "         0., 0., 0., 0., 0., 0., 0., 0., 0., 0.],\n",
       "        [0., 0., 0., 0., 0., 0., 0., 0., 0., 0., 0., 0., 0., 0., 0., 0., 0., 0.,\n",
       "         0., 0., 0., 0., 0., 0., 0., 1., 0., 0.],\n",
       "        [0., 0., 0., 0., 0., 0., 0., 0., 0., 0., 0., 0., 0., 0., 0., 0., 1., 0.,\n",
       "         0., 0., 0., 0., 0., 0., 0., 0., 0., 0.],\n",
       "        [0., 0., 0., 0., 0., 0., 0., 0., 0., 0., 0., 0., 0., 0., 0., 0., 0., 0.,\n",
       "         0., 0., 0., 0., 0., 0., 1., 0., 0., 0.],\n",
       "        [0., 0., 0., 0., 0., 0., 0., 0., 0., 0., 0., 0., 0., 0., 0., 0., 0., 1.,\n",
       "         0., 0., 0., 0., 0., 0., 0., 0., 0., 0.]], device='cuda:0')"
      ]
     },
     "execution_count": 8,
     "metadata": {},
     "output_type": "execute_result"
    }
   ],
   "source": [
    "seq "
   ]
  },
  {
   "cell_type": "code",
   "execution_count": 9,
   "id": "910f6c40",
   "metadata": {},
   "outputs": [
    {
     "data": {
      "text/plain": [
       "tensor([4], device='cuda:0')"
      ]
     },
     "execution_count": 9,
     "metadata": {},
     "output_type": "execute_result"
    }
   ],
   "source": [
    "label"
   ]
  },
  {
   "cell_type": "code",
   "execution_count": 10,
   "id": "5e639ed4",
   "metadata": {},
   "outputs": [
    {
     "data": {
      "text/plain": [
       "array([10,  8, 25, 17, 24,  4, 25, 16, 24, 17,  4])"
      ]
     },
     "execution_count": 10,
     "metadata": {},
     "output_type": "execute_result"
    }
   ],
   "source": [
    "anomaly_timeseries"
   ]
  },
  {
   "cell_type": "code",
   "execution_count": 11,
   "id": "e1647aaa",
   "metadata": {},
   "outputs": [
    {
     "name": "stdout",
     "output_type": "stream",
     "text": [
      "Successfully Initialize <Univariate Timeseries Interptreter> for Model <LSTM_onehot>\n"
     ]
    }
   ],
   "source": [
    "\"\"\"Step 3: Create a DeepAID Interpreter\"\"\"\n",
    "\n",
    "from timeseries_onehot import UniTimeseriesAID\n",
    "feature_desc = np.load('log_key_meanning.npy') # feature_description\n",
    "my_interpreter = UniTimeseriesAID(model, feature_desc=feature_desc, class_num=28)"
   ]
  },
  {
   "cell_type": "code",
   "execution_count": 12,
   "id": "adb730c8",
   "metadata": {},
   "outputs": [
    {
     "name": "stdout",
     "output_type": "stream",
     "text": [
      "\n",
      "Visualize Interpretation (Table View)\n",
      "+------+--------------------------------------+-------+------+--------------------------------------+\n",
      "| Ano. |               Meaning                | Diff. | Ref. |               Meaning*               |\n",
      "+------+--------------------------------------+-------+------+--------------------------------------+\n",
      "|  10  |  PktResponder* for blk* terminating  |       |  10  |  PktResponder* for blk* terminating  |\n",
      "|  8   |      Received blk* size* from*       |       |  8   |      Received blk* size* from*       |\n",
      "|  25  |  NS.addStoredBlock: blkMap updated   |       |  25  |  NS.addStoredBlock: blkMap updated   |\n",
      "|  17  | Starting thread to transfer blk* to* |       |  17  | Starting thread to transfer blk* to* |\n",
      "|  24  |        ask* to replicate* to*        |       |  24  |        ask* to replicate* to*        |\n",
      "|  4   |      Receiving blk* src&dest:*       |       |  4   |      Receiving blk* src&dest:*       |\n",
      "|  25  |  NS.addStoredBlock: blkMap updated   |       |  25  |  NS.addStoredBlock: blkMap updated   |\n",
      "|  16  |     Failed to transfer* to* got*     |       |  16  |     Failed to transfer* to* got*     |\n",
      "|  24  |        ask* to replicate* to*        |       |  24  |        ask* to replicate* to*        |\n",
      "|  17  | Starting thread to transfer blk* to* |       |  17  | Starting thread to transfer blk* to* |\n",
      "|  4   |      Receiving blk* src&dest:*       |   !=  |  24  |        ask* to replicate* to*        |\n",
      "+------+--------------------------------------+-------+------+--------------------------------------+\n"
     ]
    },
    {
     "name": "stderr",
     "output_type": "stream",
     "text": [
      "/home/db1702/PhD Research/Explainability/deepaid/timeseries_onehot.py:61: UserWarning: Implicit dimension choice for softmax has been deprecated. Change the call to include dim=X as an argument.\n",
      "  loss_accuracy = Bound(self.bound_thres-Logit(out)[label[0]])\n",
      "/home/db1702/PhD Research/Explainability/deepaid/timeseries_onehot.py:74: UserWarning: Implicit dimension choice for softmax has been deprecated. Change the call to include dim=X as an argument.\n",
      "  if torch.max(Logit(out)).cpu().data > self.pos_thres:\n",
      "/home/db1702/PhD Research/Explainability/deepaid/timeseries_onehot.py:77: UserWarning: Implicit dimension choice for softmax has been deprecated. Change the call to include dim=X as an argument.\n",
      "  IDX2.append(torch.argmax(Logit(out)).cpu().data.numpy().tolist())\n"
     ]
    }
   ],
   "source": [
    "\"\"\"Step 4: Interpret your anomaly and show the result\"\"\"\n",
    "interpretation = my_interpreter(seq, label)\n",
    "my_interpreter.show_table(anomaly_timeseries, interpretation)"
   ]
  },
  {
   "cell_type": "code",
   "execution_count": 15,
   "id": "a3ea8e1c",
   "metadata": {},
   "outputs": [
    {
     "data": {
      "text/plain": [
       "tensor([[0., 0., 0., 0., 0., 0., 0., 0., 0., 0., 1., 0., 0., 0., 0., 0., 0., 0.,\n",
       "         0., 0., 0., 0., 0., 0., 0., 0., 0., 0.],\n",
       "        [0., 0., 0., 0., 0., 0., 0., 0., 0., 1., 0., 0., 0., 0., 0., 0., 0., 0.,\n",
       "         0., 0., 0., 0., 0., 0., 0., 0., 0., 0.],\n",
       "        [0., 0., 0., 0., 0., 0., 0., 0., 0., 0., 0., 0., 0., 0., 1., 0., 0., 0.,\n",
       "         0., 0., 0., 0., 0., 0., 0., 0., 0., 0.],\n",
       "        [1., 0., 0., 0., 0., 0., 0., 0., 0., 0., 0., 0., 0., 0., 0., 0., 0., 0.,\n",
       "         0., 0., 0., 0., 0., 0., 0., 0., 0., 0.],\n",
       "        [0., 0., 0., 0., 0., 0., 0., 0., 0., 0., 1., 0., 0., 0., 0., 0., 0., 0.,\n",
       "         0., 0., 0., 0., 0., 0., 0., 0., 0., 0.],\n",
       "        [0., 0., 0., 0., 0., 0., 0., 0., 1., 0., 0., 0., 0., 0., 0., 0., 0., 0.,\n",
       "         0., 0., 0., 0., 0., 0., 0., 0., 0., 0.],\n",
       "        [0., 0., 0., 0., 0., 0., 0., 0., 0., 0., 0., 0., 0., 0., 1., 0., 0., 0.,\n",
       "         0., 0., 0., 0., 0., 0., 0., 0., 0., 0.],\n",
       "        [0., 0., 0., 0., 1., 0., 0., 0., 0., 0., 0., 0., 0., 0., 0., 0., 0., 0.,\n",
       "         0., 0., 0., 0., 0., 0., 0., 0., 0., 0.],\n",
       "        [1., 0., 0., 0., 0., 0., 0., 0., 0., 0., 0., 0., 0., 0., 0., 0., 0., 0.,\n",
       "         0., 0., 0., 0., 0., 0., 0., 0., 0., 0.],\n",
       "        [0., 0., 0., 0., 0., 0., 0., 0., 0., 0., 1., 0., 0., 0., 0., 0., 0., 0.,\n",
       "         0., 0., 0., 0., 0., 0., 0., 0., 0., 0.]], device='cuda:0')"
      ]
     },
     "execution_count": 15,
     "metadata": {},
     "output_type": "execute_result"
    }
   ],
   "source": [
    "## Third\n",
    "\"\"\"Step 2: Find an anomaly you are interested in\"\"\"\n",
    "abnormal_data = np.load('abnormal_data.npy')\n",
    "idx = 1000\n",
    "seq, label, anomaly_timeseries = deeplogtools_seqformat(model, abnormal_data, num_candidates=9, index=idx)\n",
    "seq"
   ]
  },
  {
   "cell_type": "code",
   "execution_count": 16,
   "id": "e5a88e69",
   "metadata": {},
   "outputs": [
    {
     "data": {
      "text/plain": [
       "tensor([8], device='cuda:0')"
      ]
     },
     "execution_count": 16,
     "metadata": {},
     "output_type": "execute_result"
    }
   ],
   "source": [
    "label"
   ]
  },
  {
   "cell_type": "code",
   "execution_count": 17,
   "id": "77eee4c8",
   "metadata": {},
   "outputs": [
    {
     "name": "stdout",
     "output_type": "stream",
     "text": [
      "Successfully Initialize <Univariate Timeseries Interptreter> for Model <LSTM_onehot>\n",
      "\n",
      "Visualize Interpretation (Table View)\n",
      "+------+------------------------------------+-------+------+------------------------------------+\n",
      "| Ano. |              Meaning               | Diff. | Ref. |              Meaning*              |\n",
      "+------+------------------------------------+-------+------+------------------------------------+\n",
      "|  10  | PktResponder* for blk* terminating |       |  10  | PktResponder* for blk* terminating |\n",
      "|  9   |      PktResponder* Exception       |       |  9   |      PktResponder* Exception       |\n",
      "|  14  |  Changing blk file offset of blk*  |       |  14  |  Changing blk file offset of blk*  |\n",
      "|  0   |   Adding an already existing blk   |       |  0   |   Adding an already existing blk   |\n",
      "|  10  | PktResponder* for blk* terminating |       |  10  | PktResponder* for blk* terminating |\n",
      "|  8   |     Received blk* size* from*      |       |  8   |     Received blk* size* from*      |\n",
      "|  14  |  Changing blk file offset of blk*  |       |  14  |  Changing blk file offset of blk*  |\n",
      "|  4   |     Receiving blk* src&dest:*      |       |  4   |     Receiving blk* src&dest:*      |\n",
      "|  0   |   Adding an already existing blk   |       |  0   |   Adding an already existing blk   |\n",
      "|  10  | PktResponder* for blk* terminating |       |  10  | PktResponder* for blk* terminating |\n",
      "|  8   |     Received blk* size* from*      |   !=  |  2   |          Served blk* to*           |\n",
      "+------+------------------------------------+-------+------+------------------------------------+\n"
     ]
    }
   ],
   "source": [
    "\"\"\"Step 3: Create a DeepAID Interpreter\"\"\"\n",
    "\n",
    "from timeseries_onehot import UniTimeseriesAID\n",
    "feature_desc = np.load('log_key_meanning.npy') # feature_description\n",
    "my_interpreter = UniTimeseriesAID(model, feature_desc=feature_desc, class_num=28)\n",
    "interpretation = my_interpreter(seq, label)\n",
    "my_interpreter.show_table(anomaly_timeseries, interpretation)"
   ]
  },
  {
   "cell_type": "code",
   "execution_count": 18,
   "id": "4fe4d28e",
   "metadata": {},
   "outputs": [
    {
     "data": {
      "text/plain": [
       "tensor([[0., 0., 0., 0., 0., 0., 0., 0., 0., 0., 0., 0., 0., 0., 0., 1., 0., 0.,\n",
       "         0., 0., 0., 0., 0., 0., 0., 0., 0., 0.],\n",
       "        [0., 0., 0., 0., 0., 0., 0., 0., 0., 0., 0., 0., 0., 0., 0., 0., 0., 0.,\n",
       "         0., 0., 0., 0., 0., 0., 0., 1., 0., 0.],\n",
       "        [0., 0., 0., 0., 0., 0., 0., 0., 0., 0., 0., 0., 0., 0., 0., 0., 0., 0.,\n",
       "         0., 0., 0., 0., 0., 0., 0., 1., 0., 0.],\n",
       "        [0., 0., 0., 0., 0., 0., 0., 0., 0., 0., 0., 0., 0., 0., 0., 0., 0., 0.,\n",
       "         0., 0., 1., 0., 0., 0., 0., 0., 0., 0.],\n",
       "        [0., 0., 0., 0., 0., 0., 0., 0., 0., 0., 0., 0., 0., 0., 0., 0., 0., 0.,\n",
       "         0., 0., 0., 0., 1., 0., 0., 0., 0., 0.],\n",
       "        [0., 0., 0., 0., 0., 0., 0., 0., 0., 0., 0., 0., 0., 0., 0., 0., 0., 0.,\n",
       "         0., 0., 0., 0., 1., 0., 0., 0., 0., 0.],\n",
       "        [0., 0., 0., 0., 0., 0., 0., 0., 0., 0., 0., 0., 0., 0., 0., 0., 0., 0.,\n",
       "         0., 0., 0., 0., 1., 0., 0., 0., 0., 0.],\n",
       "        [0., 0., 0., 0., 0., 0., 0., 0., 0., 0., 0., 0., 0., 0., 0., 0., 0., 0.,\n",
       "         0., 0., 1., 0., 0., 0., 0., 0., 0., 0.],\n",
       "        [0., 0., 0., 0., 0., 0., 0., 0., 0., 0., 0., 0., 0., 0., 0., 0., 0., 0.,\n",
       "         0., 0., 1., 0., 0., 0., 0., 0., 0., 0.],\n",
       "        [0., 0., 0., 0., 0., 0., 0., 0., 0., 0., 0., 0., 0., 0., 0., 0., 0., 0.,\n",
       "         0., 0., 1., 0., 0., 0., 0., 0., 0., 0.]], device='cuda:0')"
      ]
     },
     "execution_count": 18,
     "metadata": {},
     "output_type": "execute_result"
    }
   ],
   "source": [
    "#Fourth\n",
    "## \n",
    "\"\"\"Step 2: Find an anomaly you are interested in\"\"\"\n",
    "abnormal_data = np.load('abnormal_data.npy')\n",
    "idx = 155\n",
    "seq, label, anomaly_timeseries = deeplogtools_seqformat(model, abnormal_data, num_candidates=9, index=idx)\n",
    "seq"
   ]
  },
  {
   "cell_type": "code",
   "execution_count": 19,
   "id": "bb6f6705",
   "metadata": {},
   "outputs": [
    {
     "data": {
      "text/plain": [
       "tensor([19], device='cuda:0')"
      ]
     },
     "execution_count": 19,
     "metadata": {},
     "output_type": "execute_result"
    }
   ],
   "source": [
    "label"
   ]
  },
  {
   "cell_type": "code",
   "execution_count": 20,
   "id": "7b2f16ac",
   "metadata": {},
   "outputs": [
    {
     "name": "stdout",
     "output_type": "stream",
     "text": [
      "Successfully Initialize <Univariate Timeseries Interptreter> for Model <LSTM_onehot>\n",
      "\n",
      "Visualize Interpretation (Table View)\n",
      "+------+----------------------------------------+-------+------+--------------------------------------+\n",
      "| Ano. |                Meaning                 | Diff. | Ref. |               Meaning*               |\n",
      "+------+----------------------------------------+-------+------+--------------------------------------+\n",
      "|  15  |          Transmitted blk* to*          |       |  15  |         Transmitted blk* to*         |\n",
      "|  25  |   NS.addStoredBlock: blkMap updated    |       |  25  |  NS.addStoredBlock: blkMap updated   |\n",
      "|  25  |   NS.addStoredBlock: blkMap updated    |       |  25  |  NS.addStoredBlock: blkMap updated   |\n",
      "|  20  |          Deleting blk* file*           |       |  20  |         Deleting blk* file*          |\n",
      "|  22  |  NS.delete is added to invalidSet of*  |       |  22  | NS.delete is added to invalidSet of* |\n",
      "|  22  |  NS.delete is added to invalidSet of*  |       |  22  | NS.delete is added to invalidSet of* |\n",
      "|  22  |  NS.delete is added to invalidSet of*  |       |  22  | NS.delete is added to invalidSet of* |\n",
      "|  20  |          Deleting blk* file*           |       |  20  |         Deleting blk* file*          |\n",
      "|  20  |          Deleting blk* file*           |       |  20  |         Deleting blk* file*          |\n",
      "|  20  |          Deleting blk* file*           |       |  20  |         Deleting blk* file*          |\n",
      "|  19  | Unexpected error delete blk* not found |   !=  |  20  |         Deleting blk* file*          |\n",
      "+------+----------------------------------------+-------+------+--------------------------------------+\n"
     ]
    }
   ],
   "source": [
    "\"\"\"Step 3: Create a DeepAID Interpreter\"\"\"\n",
    "\n",
    "from timeseries_onehot import UniTimeseriesAID\n",
    "feature_desc = np.load('log_key_meanning.npy') # feature_description\n",
    "my_interpreter = UniTimeseriesAID(model, feature_desc=feature_desc, class_num=28)\n",
    "interpretation = my_interpreter(seq, label)\n",
    "my_interpreter.show_table(anomaly_timeseries, interpretation)"
   ]
  },
  {
   "cell_type": "code",
   "execution_count": null,
   "id": "4e971659",
   "metadata": {},
   "outputs": [],
   "source": []
  }
 ],
 "metadata": {
  "kernelspec": {
   "display_name": "Python 3 (ipykernel)",
   "language": "python",
   "name": "python3"
  },
  "language_info": {
   "codemirror_mode": {
    "name": "ipython",
    "version": 3
   },
   "file_extension": ".py",
   "mimetype": "text/x-python",
   "name": "python",
   "nbconvert_exporter": "python",
   "pygments_lexer": "ipython3",
   "version": "3.8.10"
  }
 },
 "nbformat": 4,
 "nbformat_minor": 5
}
