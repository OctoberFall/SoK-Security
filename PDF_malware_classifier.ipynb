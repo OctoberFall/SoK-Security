{
  "cells": [
    {
      "cell_type": "markdown",
      "metadata": {
        "id": "view-in-github",
        "colab_type": "text"
      },
      "source": [
        "<a href=\"https://colab.research.google.com/github/OctoberFall/SoK-Security/blob/main/PDF_malware_classifier.ipynb\" target=\"_parent\"><img src=\"https://colab.research.google.com/assets/colab-badge.svg\" alt=\"Open In Colab\"/></a>"
      ]
    },
    {
      "cell_type": "markdown",
      "id": "66694d88",
      "metadata": {
        "id": "66694d88"
      },
      "source": [
        "# Build a multi-layer perceptron classifier to classify PDF samples into benign and malicious\n",
        "\n",
        "The black box PDF classifier is used to evaluate explanations on a test PDF sample.\n",
        "\n",
        "Reference: Evaluating Explanation Methods for Deep Learning in Security, A.Warnecke, D.Arp, C. Wressnegger and K.Rieck, IEEE European Symposium on Security and Privacy (Euro S&P), 2020. [Github](https://github.com/alewarne/explain-mlsec)"
      ]
    },
    {
      "cell_type": "code",
      "execution_count": null,
      "id": "705757ab",
      "metadata": {
        "id": "705757ab"
      },
      "outputs": [],
      "source": [
        "import numpy as np\n",
        "import pandas as pd\n",
        "from sklearn.preprocessing import normalize\n",
        "from sklearn.model_selection import train_test_split"
      ]
    },
    {
      "cell_type": "code",
      "execution_count": null,
      "id": "8dbc3a5c",
      "metadata": {
        "id": "8dbc3a5c",
        "outputId": "4b7a9a81-a4af-4ec3-d8f0-bd0c5e5d09a9"
      },
      "outputs": [
        {
          "data": {
            "text/plain": [
              "137"
            ]
          },
          "execution_count": 2,
          "metadata": {},
          "output_type": "execute_result"
        }
      ],
      "source": [
        "\n",
        "path_to_csv=\"data/contagio-all.csv\"\n",
        "non_relevant_columns = [1]  #filename is not relevant to classifier\n",
        "label_column = 0\n",
        "arr = np.genfromtxt(path_to_csv, dtype=str, delimiter=',', skip_header=0)\n",
        "filenames = arr[1:, 1]\n",
        "no_features = arr.shape[1]\n",
        "no_features"
      ]
    },
    {
      "cell_type": "code",
      "execution_count": null,
      "id": "b794a8e1",
      "metadata": {
        "id": "b794a8e1",
        "outputId": "dd050e04-266d-461a-9ae8-52f741ba310b"
      },
      "outputs": [
        {
          "name": "stderr",
          "output_type": "stream",
          "text": [
            "/tmp/ipykernel_8843/3610200722.py:2: DeprecationWarning: `np.float` is a deprecated alias for the builtin `float`. To silence this warning, use `float` by itself. Doing this will not modify any behavior and is safe. If you specifically wanted the numpy scalar type, use `np.float64` here.\n",
            "Deprecated in NumPy 1.20; for more details and guidance: https://numpy.org/devdocs/release/1.20.0-notes.html#deprecations\n",
            "  arr = np.genfromtxt(path_to_csv, dtype=np.float, delimiter=',', skip_header=1, usecols=columns_to_use)\n"
          ]
        }
      ],
      "source": [
        "columns_to_use = [i for i in range(no_features) if i not in non_relevant_columns]\n",
        "arr = np.genfromtxt(path_to_csv, dtype=np.float, delimiter=',', skip_header=1, usecols=columns_to_use)\n",
        "labels = arr[:, label_column]\n",
        "labels = np.array([[1,0] if l == 0 else [0,1] for l in labels])\n",
        "data = np.delete(arr, 0, axis=1)"
      ]
    },
    {
      "cell_type": "code",
      "execution_count": null,
      "id": "9cb43a29",
      "metadata": {
        "id": "9cb43a29"
      },
      "outputs": [],
      "source": [
        "random_seed = 123456\n",
        "vec_output = True\n",
        "loss = 'binary_crossentropy'\n",
        "binary_encoding = True"
      ]
    },
    {
      "cell_type": "code",
      "execution_count": null,
      "id": "994c9a8f",
      "metadata": {
        "id": "994c9a8f"
      },
      "outputs": [],
      "source": [
        "if binary_encoding:\n",
        "    data[np.where(data != 0)] = 1\n",
        "else:\n",
        "    data = normalize(data, 'max', axis=0)"
      ]
    },
    {
      "cell_type": "code",
      "execution_count": null,
      "id": "b4818057",
      "metadata": {
        "id": "b4818057"
      },
      "outputs": [],
      "source": [
        "x_train, x_test, y_train, y_test = train_test_split(data, labels, test_size=0.25, random_state=random_seed)\n",
        "_, filenames_test = train_test_split(filenames, test_size=0.25, random_state=random_seed)\n"
      ]
    },
    {
      "cell_type": "markdown",
      "id": "141094aa",
      "metadata": {
        "id": "141094aa"
      },
      "source": [
        "## Add a MLP network"
      ]
    },
    {
      "cell_type": "code",
      "execution_count": null,
      "id": "698d100d",
      "metadata": {
        "id": "698d100d"
      },
      "outputs": [],
      "source": [
        "import sys\n",
        "import os\n",
        "import numpy as np\n",
        "from keras.models import Sequential\n",
        "from keras.layers import Dense, Dropout\n",
        "from sklearn.model_selection import train_test_split\n",
        "from keras.callbacks import ModelCheckpoint\n",
        "from sklearn.metrics import confusion_matrix\n",
        "from sklearn.preprocessing import normalize\n",
        "from custom_metrics import custom_true_positive_metric, custom_false_positive_metric\n",
        "import tensorflow as tf\n",
        "from tensorflow import keras\n",
        "from tensorflow.keras import layers"
      ]
    },
    {
      "cell_type": "code",
      "execution_count": null,
      "id": "82e21647",
      "metadata": {
        "id": "82e21647"
      },
      "outputs": [],
      "source": [
        "no_features=x_train.shape[1]\n",
        "vec_output = True\n",
        "final_nonlinearity = 'softmax'\n",
        "optimizer = 'adam'\n",
        "loss = 'binary_crossentropy'\n",
        "epochs = 100\n",
        "batch_size = 32"
      ]
    },
    {
      "cell_type": "code",
      "execution_count": null,
      "id": "4de89253",
      "metadata": {
        "id": "4de89253",
        "outputId": "a9858bad-c081-4a6f-e3f4-a92bd340c2f2"
      },
      "outputs": [
        {
          "name": "stdout",
          "output_type": "stream",
          "text": [
            "Epoch 1/100\n",
            "235/235 - 1s - loss: 0.1434 - accuracy: 0.9552 - val_loss: 0.0332 - val_accuracy: 0.9876 - 810ms/epoch - 3ms/step\n",
            "Epoch 2/100\n",
            "235/235 - 0s - loss: 0.0481 - accuracy: 0.9867 - val_loss: 0.0339 - val_accuracy: 0.9868 - 335ms/epoch - 1ms/step\n",
            "Epoch 3/100\n",
            "235/235 - 0s - loss: 0.0404 - accuracy: 0.9888 - val_loss: 0.0239 - val_accuracy: 0.9928 - 311ms/epoch - 1ms/step\n",
            "Epoch 4/100\n",
            "235/235 - 0s - loss: 0.0326 - accuracy: 0.9907 - val_loss: 0.0396 - val_accuracy: 0.9868 - 345ms/epoch - 1ms/step\n",
            "Epoch 5/100\n",
            "235/235 - 0s - loss: 0.0331 - accuracy: 0.9888 - val_loss: 0.0259 - val_accuracy: 0.9884 - 361ms/epoch - 2ms/step\n",
            "Epoch 6/100\n",
            "235/235 - 0s - loss: 0.0315 - accuracy: 0.9900 - val_loss: 0.0192 - val_accuracy: 0.9944 - 327ms/epoch - 1ms/step\n",
            "Epoch 7/100\n",
            "235/235 - 0s - loss: 0.0291 - accuracy: 0.9911 - val_loss: 0.0301 - val_accuracy: 0.9920 - 367ms/epoch - 2ms/step\n",
            "Epoch 8/100\n",
            "235/235 - 0s - loss: 0.0256 - accuracy: 0.9917 - val_loss: 0.0178 - val_accuracy: 0.9944 - 362ms/epoch - 2ms/step\n",
            "Epoch 9/100\n",
            "235/235 - 0s - loss: 0.0222 - accuracy: 0.9927 - val_loss: 0.0172 - val_accuracy: 0.9940 - 326ms/epoch - 1ms/step\n",
            "Epoch 10/100\n",
            "235/235 - 0s - loss: 0.0235 - accuracy: 0.9923 - val_loss: 0.0205 - val_accuracy: 0.9936 - 313ms/epoch - 1ms/step\n",
            "Epoch 11/100\n",
            "235/235 - 0s - loss: 0.0223 - accuracy: 0.9925 - val_loss: 0.0157 - val_accuracy: 0.9948 - 317ms/epoch - 1ms/step\n",
            "Epoch 12/100\n",
            "235/235 - 0s - loss: 0.0207 - accuracy: 0.9936 - val_loss: 0.0159 - val_accuracy: 0.9948 - 338ms/epoch - 1ms/step\n",
            "Epoch 13/100\n",
            "235/235 - 0s - loss: 0.0198 - accuracy: 0.9932 - val_loss: 0.0131 - val_accuracy: 0.9952 - 384ms/epoch - 2ms/step\n",
            "Epoch 14/100\n",
            "235/235 - 0s - loss: 0.0188 - accuracy: 0.9941 - val_loss: 0.0154 - val_accuracy: 0.9952 - 330ms/epoch - 1ms/step\n",
            "Epoch 15/100\n",
            "235/235 - 0s - loss: 0.0216 - accuracy: 0.9925 - val_loss: 0.0161 - val_accuracy: 0.9956 - 314ms/epoch - 1ms/step\n",
            "Epoch 16/100\n",
            "235/235 - 0s - loss: 0.0171 - accuracy: 0.9940 - val_loss: 0.0128 - val_accuracy: 0.9960 - 365ms/epoch - 2ms/step\n",
            "Epoch 17/100\n",
            "235/235 - 0s - loss: 0.0159 - accuracy: 0.9943 - val_loss: 0.0124 - val_accuracy: 0.9956 - 429ms/epoch - 2ms/step\n",
            "Epoch 18/100\n",
            "235/235 - 0s - loss: 0.0151 - accuracy: 0.9943 - val_loss: 0.0150 - val_accuracy: 0.9964 - 403ms/epoch - 2ms/step\n",
            "Epoch 19/100\n",
            "235/235 - 0s - loss: 0.0163 - accuracy: 0.9944 - val_loss: 0.0138 - val_accuracy: 0.9952 - 394ms/epoch - 2ms/step\n",
            "Epoch 20/100\n",
            "235/235 - 0s - loss: 0.0181 - accuracy: 0.9940 - val_loss: 0.0176 - val_accuracy: 0.9956 - 329ms/epoch - 1ms/step\n",
            "Epoch 21/100\n",
            "235/235 - 0s - loss: 0.0178 - accuracy: 0.9939 - val_loss: 0.0132 - val_accuracy: 0.9956 - 345ms/epoch - 1ms/step\n",
            "Epoch 22/100\n",
            "235/235 - 0s - loss: 0.0156 - accuracy: 0.9945 - val_loss: 0.0130 - val_accuracy: 0.9968 - 359ms/epoch - 2ms/step\n",
            "Epoch 23/100\n",
            "235/235 - 0s - loss: 0.0166 - accuracy: 0.9945 - val_loss: 0.0129 - val_accuracy: 0.9968 - 335ms/epoch - 1ms/step\n",
            "Epoch 24/100\n",
            "235/235 - 0s - loss: 0.0146 - accuracy: 0.9955 - val_loss: 0.0115 - val_accuracy: 0.9972 - 311ms/epoch - 1ms/step\n",
            "Epoch 25/100\n",
            "235/235 - 0s - loss: 0.0155 - accuracy: 0.9947 - val_loss: 0.0105 - val_accuracy: 0.9972 - 330ms/epoch - 1ms/step\n",
            "Epoch 26/100\n",
            "235/235 - 0s - loss: 0.0130 - accuracy: 0.9949 - val_loss: 0.0155 - val_accuracy: 0.9948 - 332ms/epoch - 1ms/step\n",
            "Epoch 27/100\n",
            "235/235 - 0s - loss: 0.0122 - accuracy: 0.9961 - val_loss: 0.0154 - val_accuracy: 0.9956 - 349ms/epoch - 1ms/step\n",
            "Epoch 28/100\n",
            "235/235 - 0s - loss: 0.0128 - accuracy: 0.9956 - val_loss: 0.0135 - val_accuracy: 0.9956 - 453ms/epoch - 2ms/step\n",
            "Epoch 29/100\n",
            "235/235 - 0s - loss: 0.0159 - accuracy: 0.9943 - val_loss: 0.0126 - val_accuracy: 0.9972 - 381ms/epoch - 2ms/step\n",
            "Epoch 30/100\n",
            "235/235 - 0s - loss: 0.0132 - accuracy: 0.9956 - val_loss: 0.0137 - val_accuracy: 0.9956 - 414ms/epoch - 2ms/step\n",
            "Epoch 31/100\n",
            "235/235 - 0s - loss: 0.0134 - accuracy: 0.9956 - val_loss: 0.0124 - val_accuracy: 0.9964 - 431ms/epoch - 2ms/step\n",
            "Epoch 32/100\n",
            "235/235 - 0s - loss: 0.0093 - accuracy: 0.9968 - val_loss: 0.0143 - val_accuracy: 0.9960 - 448ms/epoch - 2ms/step\n",
            "Epoch 33/100\n",
            "235/235 - 0s - loss: 0.0124 - accuracy: 0.9953 - val_loss: 0.0209 - val_accuracy: 0.9940 - 415ms/epoch - 2ms/step\n",
            "Epoch 34/100\n",
            "235/235 - 0s - loss: 0.0123 - accuracy: 0.9956 - val_loss: 0.0135 - val_accuracy: 0.9968 - 431ms/epoch - 2ms/step\n",
            "Epoch 35/100\n",
            "235/235 - 0s - loss: 0.0125 - accuracy: 0.9951 - val_loss: 0.0139 - val_accuracy: 0.9964 - 426ms/epoch - 2ms/step\n",
            "Epoch 36/100\n",
            "235/235 - 0s - loss: 0.0113 - accuracy: 0.9964 - val_loss: 0.0124 - val_accuracy: 0.9972 - 424ms/epoch - 2ms/step\n",
            "Epoch 37/100\n",
            "235/235 - 0s - loss: 0.0100 - accuracy: 0.9960 - val_loss: 0.0183 - val_accuracy: 0.9960 - 414ms/epoch - 2ms/step\n",
            "Epoch 38/100\n",
            "235/235 - 0s - loss: 0.0118 - accuracy: 0.9961 - val_loss: 0.0111 - val_accuracy: 0.9968 - 405ms/epoch - 2ms/step\n",
            "Epoch 39/100\n",
            "235/235 - 0s - loss: 0.0110 - accuracy: 0.9963 - val_loss: 0.0119 - val_accuracy: 0.9968 - 379ms/epoch - 2ms/step\n",
            "Epoch 40/100\n",
            "235/235 - 0s - loss: 0.0115 - accuracy: 0.9968 - val_loss: 0.0117 - val_accuracy: 0.9980 - 355ms/epoch - 2ms/step\n",
            "Epoch 41/100\n",
            "235/235 - 0s - loss: 0.0097 - accuracy: 0.9968 - val_loss: 0.0112 - val_accuracy: 0.9976 - 342ms/epoch - 1ms/step\n",
            "Epoch 42/100\n",
            "235/235 - 0s - loss: 0.0124 - accuracy: 0.9959 - val_loss: 0.0120 - val_accuracy: 0.9980 - 359ms/epoch - 2ms/step\n",
            "Epoch 43/100\n",
            "235/235 - 0s - loss: 0.0143 - accuracy: 0.9956 - val_loss: 0.0149 - val_accuracy: 0.9956 - 320ms/epoch - 1ms/step\n",
            "Epoch 44/100\n",
            "235/235 - 0s - loss: 0.0140 - accuracy: 0.9956 - val_loss: 0.0116 - val_accuracy: 0.9984 - 313ms/epoch - 1ms/step\n",
            "Epoch 45/100\n",
            "235/235 - 0s - loss: 0.0080 - accuracy: 0.9976 - val_loss: 0.0117 - val_accuracy: 0.9984 - 321ms/epoch - 1ms/step\n",
            "Epoch 46/100\n",
            "235/235 - 0s - loss: 0.0094 - accuracy: 0.9967 - val_loss: 0.0121 - val_accuracy: 0.9976 - 322ms/epoch - 1ms/step\n",
            "Epoch 47/100\n",
            "235/235 - 0s - loss: 0.0124 - accuracy: 0.9964 - val_loss: 0.0115 - val_accuracy: 0.9980 - 316ms/epoch - 1ms/step\n",
            "Epoch 48/100\n",
            "235/235 - 0s - loss: 0.0086 - accuracy: 0.9972 - val_loss: 0.0117 - val_accuracy: 0.9980 - 351ms/epoch - 1ms/step\n",
            "Epoch 49/100\n",
            "235/235 - 0s - loss: 0.0097 - accuracy: 0.9965 - val_loss: 0.0132 - val_accuracy: 0.9964 - 354ms/epoch - 2ms/step\n",
            "Epoch 50/100\n",
            "235/235 - 0s - loss: 0.0118 - accuracy: 0.9953 - val_loss: 0.0137 - val_accuracy: 0.9976 - 308ms/epoch - 1ms/step\n",
            "Epoch 51/100\n",
            "235/235 - 0s - loss: 0.0097 - accuracy: 0.9964 - val_loss: 0.0127 - val_accuracy: 0.9956 - 309ms/epoch - 1ms/step\n",
            "Epoch 52/100\n",
            "235/235 - 0s - loss: 0.0098 - accuracy: 0.9959 - val_loss: 0.0107 - val_accuracy: 0.9984 - 309ms/epoch - 1ms/step\n",
            "Epoch 53/100\n",
            "235/235 - 0s - loss: 0.0113 - accuracy: 0.9959 - val_loss: 0.0137 - val_accuracy: 0.9956 - 313ms/epoch - 1ms/step\n",
            "Epoch 54/100\n",
            "235/235 - 0s - loss: 0.0136 - accuracy: 0.9949 - val_loss: 0.0114 - val_accuracy: 0.9972 - 315ms/epoch - 1ms/step\n",
            "Epoch 55/100\n",
            "235/235 - 0s - loss: 0.0073 - accuracy: 0.9975 - val_loss: 0.0125 - val_accuracy: 0.9984 - 309ms/epoch - 1ms/step\n",
            "Epoch 56/100\n",
            "235/235 - 0s - loss: 0.0102 - accuracy: 0.9968 - val_loss: 0.0124 - val_accuracy: 0.9972 - 339ms/epoch - 1ms/step\n",
            "Epoch 57/100\n",
            "235/235 - 0s - loss: 0.0092 - accuracy: 0.9969 - val_loss: 0.0123 - val_accuracy: 0.9972 - 314ms/epoch - 1ms/step\n",
            "Epoch 58/100\n",
            "235/235 - 0s - loss: 0.0087 - accuracy: 0.9968 - val_loss: 0.0101 - val_accuracy: 0.9972 - 306ms/epoch - 1ms/step\n",
            "Epoch 59/100\n",
            "235/235 - 0s - loss: 0.0087 - accuracy: 0.9965 - val_loss: 0.0117 - val_accuracy: 0.9980 - 316ms/epoch - 1ms/step\n",
            "Epoch 60/100\n",
            "235/235 - 0s - loss: 0.0091 - accuracy: 0.9969 - val_loss: 0.0100 - val_accuracy: 0.9984 - 344ms/epoch - 1ms/step\n",
            "Epoch 61/100\n",
            "235/235 - 0s - loss: 0.0087 - accuracy: 0.9976 - val_loss: 0.0124 - val_accuracy: 0.9976 - 347ms/epoch - 1ms/step\n",
            "Epoch 62/100\n",
            "235/235 - 0s - loss: 0.0085 - accuracy: 0.9968 - val_loss: 0.0106 - val_accuracy: 0.9980 - 314ms/epoch - 1ms/step\n",
            "Epoch 63/100\n",
            "235/235 - 0s - loss: 0.0091 - accuracy: 0.9960 - val_loss: 0.0125 - val_accuracy: 0.9980 - 370ms/epoch - 2ms/step\n",
            "Epoch 64/100\n",
            "235/235 - 0s - loss: 0.0083 - accuracy: 0.9968 - val_loss: 0.0136 - val_accuracy: 0.9984 - 344ms/epoch - 1ms/step\n",
            "Epoch 65/100\n",
            "235/235 - 0s - loss: 0.0086 - accuracy: 0.9971 - val_loss: 0.0136 - val_accuracy: 0.9976 - 360ms/epoch - 2ms/step\n"
          ]
        },
        {
          "name": "stdout",
          "output_type": "stream",
          "text": [
            "Epoch 66/100\n",
            "235/235 - 0s - loss: 0.0089 - accuracy: 0.9971 - val_loss: 0.0126 - val_accuracy: 0.9972 - 323ms/epoch - 1ms/step\n",
            "Epoch 67/100\n",
            "235/235 - 0s - loss: 0.0052 - accuracy: 0.9985 - val_loss: 0.0112 - val_accuracy: 0.9980 - 321ms/epoch - 1ms/step\n",
            "Epoch 68/100\n",
            "235/235 - 0s - loss: 0.0082 - accuracy: 0.9972 - val_loss: 0.0153 - val_accuracy: 0.9960 - 358ms/epoch - 2ms/step\n",
            "Epoch 69/100\n",
            "235/235 - 0s - loss: 0.0108 - accuracy: 0.9968 - val_loss: 0.0149 - val_accuracy: 0.9952 - 370ms/epoch - 2ms/step\n",
            "Epoch 70/100\n",
            "235/235 - 0s - loss: 0.0083 - accuracy: 0.9969 - val_loss: 0.0128 - val_accuracy: 0.9984 - 322ms/epoch - 1ms/step\n",
            "Epoch 71/100\n",
            "235/235 - 0s - loss: 0.0091 - accuracy: 0.9967 - val_loss: 0.0108 - val_accuracy: 0.9980 - 332ms/epoch - 1ms/step\n",
            "Epoch 72/100\n",
            "235/235 - 0s - loss: 0.0066 - accuracy: 0.9975 - val_loss: 0.0127 - val_accuracy: 0.9960 - 361ms/epoch - 2ms/step\n",
            "Epoch 73/100\n",
            "235/235 - 0s - loss: 0.0089 - accuracy: 0.9968 - val_loss: 0.0112 - val_accuracy: 0.9980 - 399ms/epoch - 2ms/step\n",
            "Epoch 74/100\n",
            "235/235 - 0s - loss: 0.0108 - accuracy: 0.9956 - val_loss: 0.0119 - val_accuracy: 0.9976 - 367ms/epoch - 2ms/step\n",
            "Epoch 75/100\n",
            "235/235 - 0s - loss: 0.0045 - accuracy: 0.9983 - val_loss: 0.0137 - val_accuracy: 0.9976 - 389ms/epoch - 2ms/step\n",
            "Epoch 76/100\n",
            "235/235 - 0s - loss: 0.0069 - accuracy: 0.9972 - val_loss: 0.0130 - val_accuracy: 0.9976 - 365ms/epoch - 2ms/step\n",
            "Epoch 77/100\n",
            "235/235 - 0s - loss: 0.0084 - accuracy: 0.9964 - val_loss: 0.0226 - val_accuracy: 0.9956 - 330ms/epoch - 1ms/step\n",
            "Epoch 78/100\n",
            "235/235 - 0s - loss: 0.0097 - accuracy: 0.9971 - val_loss: 0.0112 - val_accuracy: 0.9984 - 371ms/epoch - 2ms/step\n",
            "Epoch 79/100\n",
            "235/235 - 0s - loss: 0.0069 - accuracy: 0.9977 - val_loss: 0.0135 - val_accuracy: 0.9968 - 314ms/epoch - 1ms/step\n",
            "Epoch 80/100\n",
            "235/235 - 0s - loss: 0.0086 - accuracy: 0.9977 - val_loss: 0.0118 - val_accuracy: 0.9976 - 326ms/epoch - 1ms/step\n",
            "Epoch 81/100\n",
            "235/235 - 0s - loss: 0.0088 - accuracy: 0.9973 - val_loss: 0.0118 - val_accuracy: 0.9956 - 339ms/epoch - 1ms/step\n",
            "Epoch 82/100\n",
            "235/235 - 0s - loss: 0.0060 - accuracy: 0.9977 - val_loss: 0.0109 - val_accuracy: 0.9976 - 367ms/epoch - 2ms/step\n",
            "Epoch 83/100\n",
            "235/235 - 0s - loss: 0.0070 - accuracy: 0.9976 - val_loss: 0.0188 - val_accuracy: 0.9944 - 337ms/epoch - 1ms/step\n",
            "Epoch 84/100\n",
            "235/235 - 0s - loss: 0.0081 - accuracy: 0.9971 - val_loss: 0.0137 - val_accuracy: 0.9976 - 328ms/epoch - 1ms/step\n",
            "Epoch 85/100\n",
            "235/235 - 0s - loss: 0.0078 - accuracy: 0.9983 - val_loss: 0.0110 - val_accuracy: 0.9980 - 350ms/epoch - 1ms/step\n",
            "Epoch 86/100\n",
            "235/235 - 0s - loss: 0.0058 - accuracy: 0.9980 - val_loss: 0.0154 - val_accuracy: 0.9960 - 321ms/epoch - 1ms/step\n",
            "Epoch 87/100\n",
            "235/235 - 0s - loss: 0.0089 - accuracy: 0.9969 - val_loss: 0.0145 - val_accuracy: 0.9976 - 368ms/epoch - 2ms/step\n",
            "Epoch 88/100\n",
            "235/235 - 0s - loss: 0.0083 - accuracy: 0.9968 - val_loss: 0.0125 - val_accuracy: 0.9968 - 352ms/epoch - 1ms/step\n",
            "Epoch 89/100\n",
            "235/235 - 0s - loss: 0.0084 - accuracy: 0.9972 - val_loss: 0.0114 - val_accuracy: 0.9980 - 335ms/epoch - 1ms/step\n",
            "Epoch 90/100\n",
            "235/235 - 0s - loss: 0.0079 - accuracy: 0.9967 - val_loss: 0.0109 - val_accuracy: 0.9976 - 337ms/epoch - 1ms/step\n",
            "Epoch 91/100\n",
            "235/235 - 0s - loss: 0.0077 - accuracy: 0.9972 - val_loss: 0.0136 - val_accuracy: 0.9972 - 344ms/epoch - 1ms/step\n",
            "Epoch 92/100\n",
            "235/235 - 0s - loss: 0.0068 - accuracy: 0.9972 - val_loss: 0.0102 - val_accuracy: 0.9980 - 368ms/epoch - 2ms/step\n",
            "Epoch 93/100\n",
            "235/235 - 0s - loss: 0.0079 - accuracy: 0.9972 - val_loss: 0.0126 - val_accuracy: 0.9976 - 325ms/epoch - 1ms/step\n",
            "Epoch 94/100\n",
            "235/235 - 0s - loss: 0.0096 - accuracy: 0.9973 - val_loss: 0.0117 - val_accuracy: 0.9984 - 362ms/epoch - 2ms/step\n",
            "Epoch 95/100\n",
            "235/235 - 0s - loss: 0.0052 - accuracy: 0.9987 - val_loss: 0.0132 - val_accuracy: 0.9980 - 358ms/epoch - 2ms/step\n",
            "Epoch 96/100\n",
            "235/235 - 0s - loss: 0.0058 - accuracy: 0.9983 - val_loss: 0.0133 - val_accuracy: 0.9976 - 319ms/epoch - 1ms/step\n",
            "Epoch 97/100\n",
            "235/235 - 0s - loss: 0.0056 - accuracy: 0.9979 - val_loss: 0.0144 - val_accuracy: 0.9980 - 330ms/epoch - 1ms/step\n",
            "Epoch 98/100\n",
            "235/235 - 0s - loss: 0.0061 - accuracy: 0.9981 - val_loss: 0.0112 - val_accuracy: 0.9984 - 353ms/epoch - 2ms/step\n",
            "Epoch 99/100\n",
            "235/235 - 0s - loss: 0.0055 - accuracy: 0.9977 - val_loss: 0.0114 - val_accuracy: 0.9976 - 346ms/epoch - 1ms/step\n",
            "Epoch 100/100\n",
            "235/235 - 0s - loss: 0.0072 - accuracy: 0.9975 - val_loss: 0.0149 - val_accuracy: 0.9980 - 319ms/epoch - 1ms/step\n"
          ]
        },
        {
          "data": {
            "text/plain": [
              "<keras.callbacks.History at 0x7fb0536b2370>"
            ]
          },
          "execution_count": 11,
          "metadata": {},
          "output_type": "execute_result"
        }
      ],
      "source": [
        "model = keras.Sequential()\n",
        "model.add(Dense(units=200, activation='relu', input_shape=(no_features, )))\n",
        "model.add(Dropout(rate=0.5))\n",
        "model.add(Dense(units=200, activation='relu'))\n",
        "model.add(Dropout(rate=0.5))\n",
        "model.add(Dense(units=2, activation='softmax'))\n",
        "model.compile(optimizer, loss, metrics=['accuracy'])\n",
        "model.fit(x_train, y_train, batch_size, epochs, validation_data=(x_test, y_test), verbose=2)"
      ]
    },
    {
      "cell_type": "code",
      "execution_count": null,
      "id": "091e104e",
      "metadata": {
        "id": "091e104e"
      },
      "outputs": [],
      "source": [
        "model.save(filepath=\"models/keras_model.h5\")"
      ]
    },
    {
      "cell_type": "code",
      "execution_count": null,
      "id": "7fa7c5ec",
      "metadata": {
        "id": "7fa7c5ec"
      },
      "outputs": [],
      "source": [
        "# prints accuracy, precision, recall, fpr and f1 score for given model and test set with labels\n",
        "def get_statistics(model, x_test, y_test):\n",
        "    y_pred = np.argmax(model.predict(x_test), axis=1)\n",
        "    y_test = np.argmax(y_test, axis=1)\n",
        "    assert len(y_pred) == len(y_test)\n",
        "    acc = np.sum(y_pred==y_test)/np.float(len(y_pred))\n",
        "    cm = confusion_matrix(y_test, y_pred)\n",
        "    TN, FN, TP, FP = cm[0,0], cm[1,0], cm[1,1], cm[0,1]\n",
        "    TPR = TP/(TP+FN)\n",
        "    FPR = FP/(FP+TN)\n",
        "    precision = TP/(TP+FP)\n",
        "    F1 = 2*TP/(2*TP+FP+FN)\n",
        "    print('The model achieved: Accuracy:{}, Precision:{}, Recall:{}, FPR:{}, F1 score:{} on the test set.'.format(\n",
        "        acc, precision, TPR, FPR, F1))"
      ]
    },
    {
      "cell_type": "code",
      "execution_count": null,
      "id": "5f2f8e3a",
      "metadata": {
        "id": "5f2f8e3a",
        "outputId": "9518f63c-61dc-49be-b343-901696677143"
      },
      "outputs": [
        {
          "name": "stdout",
          "output_type": "stream",
          "text": [
            "79/79 [==============================] - 0s 890us/step\n",
            "The model achieved: Accuracy:0.998, Precision:0.9991680532445923, Recall:0.9966804979253112, FPR:0.0007722007722007722, F1 score:0.9979227253842958 on the test set.\n"
          ]
        },
        {
          "name": "stderr",
          "output_type": "stream",
          "text": [
            "/tmp/ipykernel_8843/1922074118.py:6: DeprecationWarning: `np.float` is a deprecated alias for the builtin `float`. To silence this warning, use `float` by itself. Doing this will not modify any behavior and is safe. If you specifically wanted the numpy scalar type, use `np.float64` here.\n",
            "Deprecated in NumPy 1.20; for more details and guidance: https://numpy.org/devdocs/release/1.20.0-notes.html#deprecations\n",
            "  acc = np.sum(y_pred==y_test)/np.float(len(y_pred))\n"
          ]
        }
      ],
      "source": [
        "get_statistics(model, x_test, y_test)"
      ]
    }
  ],
  "metadata": {
    "kernelspec": {
      "display_name": "Python 3 (ipykernel)",
      "language": "python",
      "name": "python3"
    },
    "language_info": {
      "codemirror_mode": {
        "name": "ipython",
        "version": 3
      },
      "file_extension": ".py",
      "mimetype": "text/x-python",
      "name": "python",
      "nbconvert_exporter": "python",
      "pygments_lexer": "ipython3",
      "version": "3.8.10"
    },
    "colab": {
      "provenance": [],
      "include_colab_link": true
    }
  },
  "nbformat": 4,
  "nbformat_minor": 5
}